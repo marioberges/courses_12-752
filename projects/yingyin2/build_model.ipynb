{
 "cells": [
  {
   "cell_type": "code",
   "execution_count": 827,
   "metadata": {
    "collapsed": true
   },
   "outputs": [],
   "source": [
    "import numpy as np\n",
    "from matplotlib import pyplot as plt\n",
    "import numpy.lib.recfunctions as nlr\n",
    "%matplotlib inline"
   ]
  },
  {
   "cell_type": "code",
   "execution_count": 828,
   "metadata": {
    "collapsed": true
   },
   "outputs": [],
   "source": [
    "Data = np.genfromtxt('recs2009_public.csv',delimiter=',',\\\n",
    "                     dtype=[('WALLTYPE', '<i8'),('HDD65', '<i8'),('DIPSTICK','i8'),('FUELHEAT','i8'),('WINDOWS','i8'),\\\n",
    "                     ('PELHEAT','i8'),('PGASHEAT','i8'),('TOTHSQFT','<i8'),('TOTALBTUSPH','<f8')],\\\n",
    "                     skip_header=1,usecols=(24,6,315,430,609,699,705,829,908))"
   ]
  },
  {
   "cell_type": "code",
   "execution_count": 829,
   "metadata": {
    "collapsed": false
   },
   "outputs": [
    {
     "data": {
      "text/plain": [
       "mappingproxy({'PELHEAT': (dtype('int64'), 40), 'HDD65': (dtype('int64'), 8), 'DIPSTICK': (dtype('int64'), 16), 'FUELHEAT': (dtype('int64'), 24), 'WALLTYPE': (dtype('int64'), 0), 'TOTHSQFT': (dtype('int64'), 56), 'PGASHEAT': (dtype('int64'), 48), 'WINDOWS': (dtype('int64'), 32), 'TOTALBTUSPH': (dtype('float64'), 64)})"
      ]
     },
     "execution_count": 829,
     "metadata": {},
     "output_type": "execute_result"
    }
   ],
   "source": [
    "Data.dtype.fields"
   ]
  },
  {
   "cell_type": "code",
   "execution_count": 830,
   "metadata": {
    "collapsed": false
   },
   "outputs": [
    {
     "data": {
      "text/plain": [
       "(12083,)"
      ]
     },
     "execution_count": 830,
     "metadata": {},
     "output_type": "execute_result"
    }
   ],
   "source": [
    "Data.shape"
   ]
  },
  {
   "cell_type": "code",
   "execution_count": 831,
   "metadata": {
    "collapsed": false
   },
   "outputs": [],
   "source": [
    "area = np.where(Data['TOTHSQFT']>0)\n",
    "Data = Data[area]\n",
    "wall = np.where(Data['WALLTYPE']<8)\n",
    "Data = Data[wall]\n",
    "#dipstick = np.where(Data['DIPSTICK']==0)\n",
    "#Data = Data[dipstick]\n",
    "fuel = np.where(Data['FUELHEAT']!=-2)\n",
    "Data = Data[fuel]\n",
    "#elepay = np.where(Data['PELHEAT']!=-2)\n",
    "#Data = Data[elepay]\n",
    "#gaspay = np.where(Data['PGASHEAT']!=-2)\n",
    "#Data = Data[gaspay]\n",
    "energy = Data['TOTALBTUSPH']/Data['TOTHSQFT']\n",
    "Data_1 = nlr.drop_fields(Data,('TOTHSQFT','TOTALBTUSPH'))\n",
    "Data_2 = nlr.append_fields(Data_1,'energy',data=energy)"
   ]
  },
  {
   "cell_type": "code",
   "execution_count": 832,
   "metadata": {
    "collapsed": false
   },
   "outputs": [
    {
     "data": {
      "text/plain": [
       "(11588,)"
      ]
     },
     "execution_count": 832,
     "metadata": {},
     "output_type": "execute_result"
    }
   ],
   "source": [
    "Data_2.shape"
   ]
  },
  {
   "cell_type": "code",
   "execution_count": 833,
   "metadata": {
    "collapsed": false
   },
   "outputs": [
    {
     "data": {
      "text/plain": [
       "masked_array(data = [(1, 4742, -2, 5, 41, 1, -2, 2.7470944921677614)\n",
       " (2, 2662, -2, 1, 41, -2, 1, 14.110380116959064)\n",
       " (1, 6233, -2, 1, 20, -2, 2, 76.22727272727273) ...,\n",
       " (3, 7935, 0, 1, 42, -2, 1, 16.892131069122218)\n",
       " (1, 5834, 0, 1, 41, -2, 1, 57.66319444444444)\n",
       " (2, 2806, -2, 1, 30, 1, 1, 4.81504424778761)],\n",
       "             mask = [(False, False, False, False, False, False, False, False)\n",
       " (False, False, False, False, False, False, False, False)\n",
       " (False, False, False, False, False, False, False, False) ...,\n",
       " (False, False, False, False, False, False, False, False)\n",
       " (False, False, False, False, False, False, False, False)\n",
       " (False, False, False, False, False, False, False, False)],\n",
       "       fill_value = (999999, 999999, 999999, 999999, 999999, 999999, 999999, 1e+20),\n",
       "            dtype = [('WALLTYPE', '<i8'), ('HDD65', '<i8'), ('DIPSTICK', '<i8'), ('FUELHEAT', '<i8'), ('WINDOWS', '<i8'), ('PELHEAT', '<i8'), ('PGASHEAT', '<i8'), ('energy', '<f8')])"
      ]
     },
     "execution_count": 833,
     "metadata": {},
     "output_type": "execute_result"
    }
   ],
   "source": [
    "Data_2"
   ]
  },
  {
   "cell_type": "code",
   "execution_count": 834,
   "metadata": {
    "collapsed": false,
    "scrolled": true
   },
   "outputs": [
    {
     "data": {
      "text/plain": [
       "array([[ 1.,  0.,  0., ...,  0.,  0.,  0.],\n",
       "       [ 0.,  1.,  0., ...,  0.,  0.,  0.],\n",
       "       [ 1.,  0.,  0., ...,  0.,  0.,  0.],\n",
       "       ..., \n",
       "       [ 0.,  0.,  1., ...,  0.,  0.,  0.],\n",
       "       [ 1.,  0.,  0., ...,  0.,  0.,  0.],\n",
       "       [ 0.,  1.,  0., ...,  0.,  0.,  0.]])"
      ]
     },
     "execution_count": 834,
     "metadata": {},
     "output_type": "execute_result"
    }
   ],
   "source": [
    "N = len(Data_2)\n",
    "DM_material = np.zeros((N,7))\n",
    "for i in range(N):\n",
    "    DM_material[i][Data_2['WALLTYPE'][i]-1] = 1\n",
    "DM_material"
   ]
  },
  {
   "cell_type": "code",
   "execution_count": 835,
   "metadata": {
    "collapsed": false
   },
   "outputs": [
    {
     "data": {
      "text/plain": [
       "array([[ 0.,  0.,  0., ...,  0.,  0.,  0.],\n",
       "       [ 1.,  0.,  0., ...,  0.,  0.,  0.],\n",
       "       [ 1.,  0.,  0., ...,  0.,  0.,  0.],\n",
       "       ..., \n",
       "       [ 1.,  0.,  0., ...,  0.,  0.,  0.],\n",
       "       [ 1.,  0.,  0., ...,  0.,  0.,  0.],\n",
       "       [ 1.,  0.,  0., ...,  0.,  0.,  0.]])"
      ]
     },
     "execution_count": 835,
     "metadata": {},
     "output_type": "execute_result"
    }
   ],
   "source": [
    "DM_fuel = np.zeros((N,9))\n",
    "for i in range(N):\n",
    "    if Data_2['FUELHEAT'][i] == 21:\n",
    "        DM_fuel[i][8] = 1\n",
    "    elif Data_2['FUELHEAT'][i] == 8 or Data_2['FUELHEAT'][i] == 7 or Data_2['FUELHEAT'][i] == 9:\n",
    "        DM_fuel[i][Data_2['FUELHEAT'][i]-2] = 1\n",
    "    else:\n",
    "        DM_fuel[i][Data_2['FUELHEAT'][i]-1] = 1\n",
    "DM_fuel"
   ]
  },
  {
   "cell_type": "code",
   "execution_count": 836,
   "metadata": {
    "collapsed": false
   },
   "outputs": [
    {
     "data": {
      "text/plain": [
       "array([[ 0.,  0.,  0.,  1.],\n",
       "       [ 1.,  0.,  0.,  0.],\n",
       "       [ 0.,  1.,  0.,  0.],\n",
       "       ..., \n",
       "       [ 1.,  0.,  0.,  0.],\n",
       "       [ 1.,  0.,  0.,  0.],\n",
       "       [ 1.,  0.,  0.,  0.]])"
      ]
     },
     "execution_count": 836,
     "metadata": {},
     "output_type": "execute_result"
    }
   ],
   "source": [
    "DM_gaspay = np.zeros((N,4))\n",
    "for i in range(N):\n",
    "    if Data_2['PGASHEAT'][i] == -2:\n",
    "        DM_gaspay[i][3] = 1\n",
    "    else:\n",
    "        DM_gaspay[i][Data_2['PGASHEAT'][i]-1] = 1\n",
    "DM_gaspay"
   ]
  },
  {
   "cell_type": "code",
   "execution_count": 837,
   "metadata": {
    "collapsed": false
   },
   "outputs": [
    {
     "data": {
      "text/plain": [
       "array([[ 1.,  0.,  0.,  0.],\n",
       "       [ 0.,  0.,  0.,  1.],\n",
       "       [ 0.,  0.,  0.,  1.],\n",
       "       ..., \n",
       "       [ 0.,  0.,  0.,  1.],\n",
       "       [ 0.,  0.,  0.,  1.],\n",
       "       [ 1.,  0.,  0.,  0.]])"
      ]
     },
     "execution_count": 837,
     "metadata": {},
     "output_type": "execute_result"
    }
   ],
   "source": [
    "DM_elepay = np.zeros((N,4))\n",
    "for i in range(N):\n",
    "    if Data_2['PELHEAT'][i] == -2:\n",
    "        DM_elepay[i][3] = 1\n",
    "    else:\n",
    "        DM_elepay[i][Data_2['PELHEAT'][i]-1] = 1\n",
    "DM_elepay"
   ]
  },
  {
   "cell_type": "code",
   "execution_count": 838,
   "metadata": {
    "collapsed": false
   },
   "outputs": [
    {
     "data": {
      "text/plain": [
       "array([[ 0.,  0.,  1.],\n",
       "       [ 0.,  0.,  1.],\n",
       "       [ 0.,  0.,  1.],\n",
       "       ..., \n",
       "       [ 1.,  0.,  0.],\n",
       "       [ 1.,  0.,  0.],\n",
       "       [ 0.,  0.,  1.]])"
      ]
     },
     "execution_count": 838,
     "metadata": {},
     "output_type": "execute_result"
    }
   ],
   "source": [
    "DM_dipstick = np.zeros((N,3))\n",
    "for i in range(N):\n",
    "    if Data_2['DIPSTICK'][i] == -2:\n",
    "        DM_dipstick[i][2] = 1\n",
    "    else:\n",
    "        DM_dipstick[i][Data_2['DIPSTICK'][i]] = 1\n",
    "DM_dipstick"
   ]
  },
  {
   "cell_type": "code",
   "execution_count": 839,
   "metadata": {
    "collapsed": false
   },
   "outputs": [
    {
     "data": {
      "text/plain": [
       "array([[ 0.,  0.,  0., ...,  0.,  0.,  0.],\n",
       "       [ 0.,  0.,  0., ...,  0.,  0.,  0.],\n",
       "       [ 0.,  0.,  1., ...,  0.,  0.,  0.],\n",
       "       ..., \n",
       "       [ 0.,  0.,  0., ...,  1.,  0.,  0.],\n",
       "       [ 0.,  0.,  0., ...,  0.,  0.,  0.],\n",
       "       [ 0.,  0.,  0., ...,  0.,  0.,  0.]])"
      ]
     },
     "execution_count": 839,
     "metadata": {},
     "output_type": "execute_result"
    }
   ],
   "source": [
    "DM_windows = np.zeros((N,8))\n",
    "for i in range(N):\n",
    "    if Data_2['WINDOWS'][i] == 0:\n",
    "        DM_windows[i][0] = 1\n",
    "    elif Data_2['WINDOWS'][i] == 10:\n",
    "        DM_windows[i][1] = 1\n",
    "    elif Data_2['WINDOWS'][i] == 20:\n",
    "        DM_windows[i][2] = 1\n",
    "    elif Data_2['WINDOWS'][i] == 30:\n",
    "        DM_windows[i][3] = 1\n",
    "    elif Data_2['WINDOWS'][i] == 41:\n",
    "        DM_windows[i][4] = 1\n",
    "    elif Data_2['WINDOWS'][i] == 42:\n",
    "        DM_windows[i][5] = 1\n",
    "    elif Data_2['WINDOWS'][i] == 50:\n",
    "        DM_windows[i][6] = 1\n",
    "    else:\n",
    "        DM_windows[i][7] = 1\n",
    "DM_windows"
   ]
  },
  {
   "cell_type": "code",
   "execution_count": 840,
   "metadata": {
    "collapsed": false
   },
   "outputs": [
    {
     "name": "stdout",
     "output_type": "stream",
     "text": [
      "The minimum heating degree days is 53\n",
      "The maximum heating degree days is 12525\n"
     ]
    }
   ],
   "source": [
    "print('The minimum heating degree days is '+str(min(Data['HDD65'])))\n",
    "print('The maximum heating degree days is '+str(max(Data['HDD65'])))"
   ]
  },
  {
   "cell_type": "code",
   "execution_count": 841,
   "metadata": {
    "collapsed": false,
    "scrolled": false
   },
   "outputs": [
    {
     "data": {
      "text/plain": [
       "<matplotlib.text.Text at 0x10fcd0b38>"
      ]
     },
     "execution_count": 841,
     "metadata": {},
     "output_type": "execute_result"
    },
    {
     "data": {
      "image/png": "[encoded data removed]",
      "text/plain": [
       "<matplotlib.figure.Figure at 0x10eb52240>"
      ]
     },
     "metadata": {},
     "output_type": "display_data"
    }
   ],
   "source": [
    "fig1= plt.figure(figsize=(15,15))\n",
    "\n",
    "plt.subplot(321)\n",
    "plt.hist(Data['HDD65'],bins=25)\n",
    "plt.title('Zone 1')\n",
    "plt.xlabel('wall material')\n",
    "plt.ylabel('Heat Consumption Energy [Thousand BTU]')\n",
    "\n",
    "plt.subplot(322)\n",
    "plt.hist(Data['HDD65'],bins=9)\n",
    "plt.title('Zone 2')\n",
    "plt.xlabel('wall material')\n",
    "plt.ylabel('Heat Consumption Energy [Thousand BTU]')\n",
    "\n",
    "plt.subplot(323)\n",
    "plt.hist(Data['HDD65'],bins=20)\n",
    "plt.title('Zone 3')\n",
    "plt.xlabel('wall material')\n",
    "plt.ylabel('Heat Consumption Energy [Thousand BTU]')\n",
    "\n",
    "plt.subplot(324)\n",
    "plt.hist(Data['HDD65'],bins=19)\n",
    "plt.title('Zone 4')\n",
    "plt.xlabel('wall material')\n",
    "plt.ylabel('Heat Consumption Energy [Thousand BTU]')\n",
    "\n",
    "plt.subplot(325)\n",
    "plt.hist(Data['HDD65'],bins=18)\n",
    "plt.title('Zone 5')\n",
    "plt.xlabel('wall material')\n",
    "plt.ylabel('Heat Consumption Energy [Thousand BTU]')"
   ]
  },
  {
   "cell_type": "code",
   "execution_count": 842,
   "metadata": {
    "collapsed": true
   },
   "outputs": [],
   "source": [
    "def Tc(hdd, T_bound):\n",
    "    \n",
    "    Tc_matrix = np.zeros((len(hdd), len(T_bound)+1))\n",
    "    \n",
    "    for (i,t) in enumerate(hdd):\n",
    "        # first chunk\n",
    "        if t <= T_bound[0]:\n",
    "            Tc_matrix[i,0] = t\n",
    "            continue\n",
    "        else:\n",
    "            Tc_matrix[i,0] = T_bound[0]\n",
    "       \n",
    "        # chunks in the middle\n",
    "        n = 1\n",
    "        while(n < len(T_bound)-1 and t > T_bound[n]):\n",
    "            Tc_matrix[i,n] = T_bound[n+1] - T_bound[n]\n",
    "            n += 1\n",
    "        if(n < len(T_bound) and t <= T_bound[n]):\n",
    "            Tc_matrix[i,n] = t - T_bound[n-1]\n",
    "            continue\n",
    "        \n",
    "        # last chunk\n",
    "        if(t > T_bound[-1]):\n",
    "            if(len(T_bound)>1):\n",
    "                Tc_matrix[i,-2] = T_bound[-1] - T_bound[-2]\n",
    "            Tc_matrix[i,-1] = t - T_bound[-1]\n",
    "    \n",
    "    return Tc_matrix"
   ]
  },
  {
   "cell_type": "code",
   "execution_count": 1280,
   "metadata": {
    "collapsed": false
   },
   "outputs": [
    {
     "data": {
      "text/plain": [
       "array([   551.88,   1050.76,   1549.64,   2048.52,   2547.4 ,   3046.28,\n",
       "         3545.16,   4044.04,   4542.92,   5041.8 ,   5540.68,   6039.56,\n",
       "         6538.44,   7037.32,   7536.2 ,   8035.08,   8533.96,   9032.84,\n",
       "         9531.72,  10030.6 ,  10529.48,  11028.36,  11527.24,  12026.12])"
      ]
     },
     "execution_count": 1280,
     "metadata": {},
     "output_type": "execute_result"
    }
   ],
   "source": [
    "# get T_bound\n",
    "num_chunk = 25\n",
    "\n",
    "H_bound = np.linspace(min(Data['HDD65']),max(Data['HDD65']),num_chunk+1)[1:-1]\n",
    "H_bound"
   ]
  },
  {
   "cell_type": "code",
   "execution_count": 1281,
   "metadata": {
    "collapsed": false
   },
   "outputs": [
    {
     "data": {
      "text/plain": [
       "(11588, 25)"
      ]
     },
     "execution_count": 1281,
     "metadata": {},
     "output_type": "execute_result"
    }
   ],
   "source": [
    "DM_hdd = Tc(Data_2['HDD65'],H_bound)\n",
    "DM_hdd.shape"
   ]
  },
  {
   "cell_type": "code",
   "execution_count": 1282,
   "metadata": {
    "collapsed": false
   },
   "outputs": [
    {
     "data": {
      "text/plain": [
       "(11588,)"
      ]
     },
     "execution_count": 1282,
     "metadata": {},
     "output_type": "execute_result"
    }
   ],
   "source": [
    "energy = Data_2['energy']\n",
    "energy.shape"
   ]
  },
  {
   "cell_type": "code",
   "execution_count": 1297,
   "metadata": {
    "collapsed": false,
    "scrolled": false
   },
   "outputs": [
    {
     "data": {
      "text/plain": [
       "array([[ 1.,  0.,  0., ...,  0.,  0.,  1.],\n",
       "       [ 0.,  1.,  0., ...,  0.,  0.,  1.],\n",
       "       [ 1.,  0.,  0., ...,  0.,  0.,  1.],\n",
       "       ..., \n",
       "       [ 0.,  0.,  1., ...,  1.,  0.,  0.],\n",
       "       [ 1.,  0.,  0., ...,  1.,  0.,  0.],\n",
       "       [ 0.,  1.,  0., ...,  0.,  0.,  1.]])"
      ]
     },
     "execution_count": 1297,
     "metadata": {},
     "output_type": "execute_result"
    }
   ],
   "source": [
    "X = np.hstack((DM_material,DM_fuel,DM_hdd,DM_dipstick))\n",
    "X"
   ]
  },
  {
   "cell_type": "code",
   "execution_count": 1284,
   "metadata": {
    "collapsed": false
   },
   "outputs": [
    {
     "data": {
      "text/plain": [
       "array([[  3.65439989e+11,   4.53178074e+11,   4.22831089e+11, ...,\n",
       "         -1.71366022e+11,  -2.08942127e+11,  -2.68216544e+11],\n",
       "       [  3.65439989e+11,   4.53178074e+11,   4.22831089e+11, ...,\n",
       "         -1.71366022e+11,  -2.08942127e+11,  -2.68216544e+11],\n",
       "       [  3.65439989e+11,   4.53178074e+11,   4.22831089e+11, ...,\n",
       "         -1.71366022e+11,  -2.08942127e+11,  -2.68216544e+11],\n",
       "       ..., \n",
       "       [ -4.22661012e+11,  -4.22661012e+11,  -4.22661012e+11, ...,\n",
       "          1.06619309e+12,   1.06619309e+12,   1.06619309e+12],\n",
       "       [ -4.22661012e+11,  -4.22661012e+11,  -4.22661012e+11, ...,\n",
       "          1.06619309e+12,   1.06619309e+12,   1.06619309e+12],\n",
       "       [ -4.22661012e+11,  -4.22661012e+11,  -4.22661012e+11, ...,\n",
       "          1.06619309e+12,   1.06619309e+12,   1.06619309e+12]])"
      ]
     },
     "execution_count": 1284,
     "metadata": {},
     "output_type": "execute_result"
    }
   ],
   "source": [
    "#from scipy import linalg\n",
    "np.linalg.inv(np.dot(X.T,X))"
   ]
  },
  {
   "cell_type": "code",
   "execution_count": 1285,
   "metadata": {
    "collapsed": false
   },
   "outputs": [
    {
     "data": {
      "text/plain": [
       "masked_array(data = [  2.24368541e+01  -2.69367116e+01   2.56770540e+01  -8.06490119e+01\n",
       "  -1.91003027e+01  -1.16185326e+01  -3.81134017e+01   1.11357103e+02\n",
       "   6.73552354e+01  -8.85036832e+01   3.14595129e+01  -1.69511331e+01\n",
       "   1.18606210e+02  -3.56294592e+01  -1.61372408e+01  -2.39179913e+01\n",
       "   2.75064133e-03  -4.76590846e-03   3.01742717e-03   3.34831433e-03\n",
       "   1.93226065e-03   7.13457114e-03   3.62479953e-03   4.78596277e-03\n",
       "   9.67218344e-03  -2.79343541e-03   7.07080640e-03  -5.64363362e-04\n",
       "   3.25410436e-03   1.54981943e-03  -1.33057460e-02  -6.94462247e-03\n",
       "   3.35816758e-03   2.35512835e-02  -2.68173339e-03   8.72310828e-04\n",
       "   3.03335120e-02   2.10511301e-02  -7.12351835e-02   1.68385742e-03\n",
       "   2.22912061e-02   1.93989442e+01   1.30795586e+01   8.32539835e+00],\n",
       "             mask = False,\n",
       "       fill_value = 1e+20)"
      ]
     },
     "execution_count": 1285,
     "metadata": {},
     "output_type": "execute_result"
    }
   ],
   "source": [
    "beta_hat = (linalg.inv(np.dot(X.T,X)).dot(X.T)).dot(energy)\n",
    "beta_hat"
   ]
  },
  {
   "cell_type": "code",
   "execution_count": 1286,
   "metadata": {
    "collapsed": false
   },
   "outputs": [
    {
     "name": "stdout",
     "output_type": "stream",
     "text": [
      "[2.7470944921677614 14.110380116959064 76.22727272727273 ...,\n",
      " 16.892131069122218 57.66319444444444 4.81504424778761]\n",
      "[  29.1156319    96.84352641  160.46180423 ...,  167.13517161  171.0218867\n",
      "   97.87090465]\n"
     ]
    },
    {
     "data": {
      "text/plain": [
       "-5.8158963042823153"
      ]
     },
     "execution_count": 1286,
     "metadata": {},
     "output_type": "execute_result"
    }
   ],
   "source": [
    "predicted = np.dot(X, beta_hat)\n",
    "Y = energy\n",
    "print(Y)\n",
    "print(predicted)\n",
    "SSres = (Y-predicted).T.dot(Y-predicted)\n",
    "SSres\n",
    "ave_y = np.mean(Y)\n",
    "SStot = (Y-ave_y).T.dot(Y-ave_y)\n",
    "R2 = 1-SSres/SStot\n",
    "R2"
   ]
  },
  {
   "cell_type": "code",
   "execution_count": 1287,
   "metadata": {
    "collapsed": false
   },
   "outputs": [
    {
     "data": {
      "text/plain": [
       "8240.2342158329811"
      ]
     },
     "execution_count": 1287,
     "metadata": {},
     "output_type": "execute_result"
    }
   ],
   "source": [
    "P = len(X[0])\n",
    "MSE = SSres/(N-P)\n",
    "MSE"
   ]
  },
  {
   "cell_type": "code",
   "execution_count": 1288,
   "metadata": {
    "collapsed": false
   },
   "outputs": [
    {
     "data": {
      "text/plain": [
       "array([  4.79430149e+11,   3.73764896e+11,   4.13389366e+11,\n",
       "         4.29899562e+11,   4.86034227e+11,   3.73764896e+11,\n",
       "         3.60556739e+11,   8.50555235e+11,   7.60058536e+11,\n",
       "         9.10886368e+11,   8.05306885e+11,   9.81272689e+11,\n",
       "         7.44975753e+11,   8.20389669e+11,   8.45527641e+11,\n",
       "         7.29892970e+11,   7.54444084e-08,   2.49842647e-08,\n",
       "         2.73780685e-08,   3.09843856e-08,   3.16040381e-08,\n",
       "         2.50602029e-08,   3.08083309e-08,   3.17523556e-08,\n",
       "         2.57425428e-08,   1.92277620e-08,   1.83902363e-08,\n",
       "         2.03491795e-08,   2.07169589e-08,   2.78091170e-08,\n",
       "         4.10014460e-08,   6.18905655e-08,   1.00136177e-07,\n",
       "         1.77870659e-07,   2.59695664e-07,   4.01145655e-07,\n",
       "         1.30004434e-06,   3.91049611e-06,   5.09408883e-06,\n",
       "         7.87349185e-06,   8.24266761e-06,   1.06619309e+12,\n",
       "         1.06619309e+12,   1.06619309e+12])"
      ]
     },
     "execution_count": 1288,
     "metadata": {},
     "output_type": "execute_result"
    }
   ],
   "source": [
    "a = linalg.inv((X.T).dot(X))\n",
    "a_diagonal = a.diagonal()\n",
    "a_diagonal"
   ]
  },
  {
   "cell_type": "code",
   "execution_count": 1289,
   "metadata": {
    "collapsed": false
   },
   "outputs": [
    {
     "data": {
      "text/plain": [
       "array([  6.28539316e+07,   5.54969394e+07,   5.83645886e+07,\n",
       "         5.95186784e+07,   6.32853527e+07,   5.54969394e+07,\n",
       "         5.45075406e+07,   8.37184230e+07,   7.91394993e+07,\n",
       "         8.66366955e+07,   8.14611401e+07,   8.99217259e+07,\n",
       "         7.83503330e+07,   8.22204538e+07,   8.34706283e+07,\n",
       "         7.75531368e+07,   2.49335035e-02,   1.43483864e-02,\n",
       "         1.50200432e-02,   1.59786919e-02,   1.61376788e-02,\n",
       "         1.43701754e-02,   1.59332314e-02,   1.61755015e-02,\n",
       "         1.45644973e-02,   1.25873453e-02,   1.23101525e-02,\n",
       "         1.29492087e-02,   1.30657030e-02,   1.51378214e-02,\n",
       "         1.83810097e-02,   2.25830192e-02,   2.87253468e-02,\n",
       "         3.82844079e-02,   4.62596270e-02,   5.74937749e-02,\n",
       "         1.03502028e-01,   1.79508785e-01,   2.04881637e-01,\n",
       "         2.54714383e-01,   2.60617558e-01,   9.37319626e+07,\n",
       "         9.37319626e+07,   9.37319626e+07])"
      ]
     },
     "execution_count": 1289,
     "metadata": {},
     "output_type": "execute_result"
    }
   ],
   "source": [
    "S_beta_k_sqaure =  MSE*a_diagonal\n",
    "S_beta_k = np.sqrt(S_beta_k_sqaure)\n",
    "S_beta_k"
   ]
  },
  {
   "cell_type": "markdown",
   "metadata": {},
   "source": [
    "Create a 95% confidence level."
   ]
  },
  {
   "cell_type": "code",
   "execution_count": 1290,
   "metadata": {
    "collapsed": false
   },
   "outputs": [
    {
     "data": {
      "text/plain": [
       "1.9601695039223017"
      ]
     },
     "execution_count": 1290,
     "metadata": {},
     "output_type": "execute_result"
    }
   ],
   "source": [
    "from scipy.stats import t\n",
    "t_1 = t.isf(0.025,N-P)\n",
    "t_1"
   ]
  },
  {
   "cell_type": "code",
   "execution_count": 1291,
   "metadata": {
    "collapsed": false
   },
   "outputs": [
    {
     "data": {
      "text/plain": [
       "masked_array(data =\n",
       " [[ -1.23204338e+08   1.23204382e+08]\n",
       " [ -1.08783435e+08   1.08783381e+08]\n",
       " [ -1.14404461e+08   1.14404512e+08]\n",
       " [ -1.16666779e+08   1.16666618e+08]\n",
       " [ -1.24050038e+08   1.24049999e+08]\n",
       " [ -1.08783420e+08   1.08783397e+08]\n",
       " [ -1.06844057e+08   1.06843981e+08]\n",
       " [ -1.64102188e+08   1.64102411e+08]\n",
       " [ -1.55126766e+08   1.55126901e+08]\n",
       " [ -1.69822697e+08   1.69822520e+08]\n",
       " [ -1.59677611e+08   1.59677674e+08]\n",
       " [ -1.76261842e+08   1.76261808e+08]\n",
       " [ -1.53579815e+08   1.53580052e+08]\n",
       " [ -1.61166062e+08   1.61165990e+08]\n",
       " [ -1.63616596e+08   1.63616564e+08]\n",
       " [ -1.52017318e+08   1.52017270e+08]\n",
       " [ -4.61232518e-02   5.16245345e-02]\n",
       " [ -3.28911780e-02   2.33593610e-02]\n",
       " [ -2.64244034e-02   3.24592577e-02]\n",
       " [ -2.79726302e-02   3.46692589e-02]\n",
       " [ -2.97003251e-02   3.35648464e-02]\n",
       " [ -2.10334085e-02   3.53025508e-02]\n",
       " [ -2.76070347e-02   3.48566338e-02]\n",
       " [ -2.69207619e-02   3.64926874e-02]\n",
       " [ -1.88767001e-02   3.82210669e-02]\n",
       " [ -2.74667659e-02   2.18798950e-02]\n",
       " [ -1.70591791e-02   3.12007919e-02]\n",
       " [ -2.59470073e-02   2.48182805e-02]\n",
       " [ -2.23568881e-02   2.88650968e-02]\n",
       " [ -2.81228765e-02   3.12225153e-02]\n",
       " [ -4.93356407e-02   2.27241487e-02]\n",
       " [ -5.12111680e-02   3.73219230e-02]\n",
       " [ -5.29483813e-02   5.96647164e-02]\n",
       " [ -5.14926454e-02   9.85952124e-02]\n",
       " [ -9.33584435e-02   8.79949768e-02]\n",
       " [ -1.11825233e-01   1.13569855e-01]\n",
       " [ -1.72548008e-01   2.33215032e-01]\n",
       " [ -3.30816515e-01   3.72918776e-01]\n",
       " [ -4.72837920e-01   3.30367553e-01]\n",
       " [ -4.97599509e-01   5.00967223e-01]\n",
       " [ -4.88563384e-01   5.33145796e-01]\n",
       " [ -1.83730515e+08   1.83730554e+08]\n",
       " [ -1.83730522e+08   1.83730548e+08]\n",
       " [ -1.83730526e+08   1.83730543e+08]],\n",
       "             mask =\n",
       " False,\n",
       "       fill_value = 1e+20)"
      ]
     },
     "execution_count": 1291,
     "metadata": {},
     "output_type": "execute_result"
    }
   ],
   "source": [
    "low_CI = beta_hat-t_1*S_beta_k\n",
    "high_CI = beta_hat+t_1*S_beta_k\n",
    "CI = np.vstack((low_CI, high_CI)).T\n",
    "CI"
   ]
  },
  {
   "cell_type": "code",
   "execution_count": 1292,
   "metadata": {
    "collapsed": false
   },
   "outputs": [
    {
     "data": {
      "text/plain": [
       "masked_array(data =\n",
       " [[  2.46408720e+08]\n",
       " [  2.17566816e+08]\n",
       " [  2.28808973e+08]\n",
       " [  2.33333397e+08]\n",
       " [  2.48100037e+08]\n",
       " [  2.17566816e+08]\n",
       " [  2.13688038e+08]\n",
       " [  3.28204599e+08]\n",
       " [  3.10253666e+08]\n",
       " [  3.39645217e+08]\n",
       " [  3.19355285e+08]\n",
       " [  3.52523650e+08]\n",
       " [  3.07159867e+08]\n",
       " [  3.22332052e+08]\n",
       " [  3.27233160e+08]\n",
       " [  3.04034587e+08]\n",
       " [  9.77477863e-02]\n",
       " [  5.62505390e-02]\n",
       " [  5.88836611e-02]\n",
       " [  6.26418891e-02]\n",
       " [  6.32651716e-02]\n",
       " [  5.63359592e-02]\n",
       " [  6.24636685e-02]\n",
       " [  6.34134493e-02]\n",
       " [  5.70977670e-02]\n",
       " [  4.93466609e-02]\n",
       " [  4.82599711e-02]\n",
       " [  5.07652878e-02]\n",
       " [  5.12219850e-02]\n",
       " [  5.93453918e-02]\n",
       " [  7.20597894e-02]\n",
       " [  8.85330910e-02]\n",
       " [  1.12613098e-01]\n",
       " [  1.50087858e-01]\n",
       " [  1.81353420e-01]\n",
       " [  2.25395089e-01]\n",
       " [  4.05763039e-01]\n",
       " [  7.03735291e-01]\n",
       " [  8.03205473e-01]\n",
       " [  9.98566732e-01]\n",
       " [  1.02170918e+00]\n",
       " [  3.67461069e+08]\n",
       " [  3.67461069e+08]\n",
       " [  3.67461069e+08]],\n",
       "             mask =\n",
       " False,\n",
       "       fill_value = 1e+20)"
      ]
     },
     "execution_count": 1292,
     "metadata": {},
     "output_type": "execute_result"
    }
   ],
   "source": [
    "diff = np.diff(CI)\n",
    "diff"
   ]
  },
  {
   "cell_type": "code",
   "execution_count": 1293,
   "metadata": {
    "collapsed": false
   },
   "outputs": [
    {
     "data": {
      "text/plain": [
       "(array([16, 17, 18, 19, 20, 21, 22, 23, 24, 25, 26, 27, 28, 29, 30, 31, 32,\n",
       "        33, 34, 35, 36, 37, 38, 39, 40]),\n",
       " array([0, 0, 0, 0, 0, 0, 0, 0, 0, 0, 0, 0, 0, 0, 0, 0, 0, 0, 0, 0, 0, 0, 0,\n",
       "        0, 0]))"
      ]
     },
     "execution_count": 1293,
     "metadata": {},
     "output_type": "execute_result"
    }
   ],
   "source": [
    "np.where(diff<50)"
   ]
  },
  {
   "cell_type": "code",
   "execution_count": 1294,
   "metadata": {
    "collapsed": false
   },
   "outputs": [
    {
     "data": {
      "text/plain": [
       "masked_array(data = [3.569681880001958e-07 -4.853729210691395e-07 4.399423462518954e-07\n",
       " -1.3550202059423983e-06 -3.018123763701536e-07 -2.0935447524818683e-07\n",
       " -6.992317270315613e-07 1.330138564305017e-06 8.510950406215326e-07\n",
       " -1.0215496180374008e-06 3.861904324136985e-07 -1.8850987219770021e-07\n",
       " 1.513793316145047e-06 -4.333405815318026e-07 -1.9332837381686245e-07\n",
       " -3.084077867849809e-07 0.11031908648219983 -0.33215640566009286\n",
       " 0.20089337508912283 0.2095487134160817 0.11973597155814207\n",
       " 0.49648462401887317 0.22749933400119168 0.29587724275465443\n",
       " 0.6640931866221754 -0.22192411025082437 0.5743882044374322\n",
       " -0.043582845653453404 0.2490569678693018 0.10238061251036644\n",
       " -0.7238854785132276 -0.30751523592140967 0.11690607600284786\n",
       " 0.6151664544453885 -0.05797135777877348 0.01517226567143384\n",
       " 0.29307166703731846 0.11727075153830062 -0.347689449439907\n",
       " 0.0066107669118400875 0.08553224969138296 2.069618910831305e-07\n",
       " 1.3954213963552686e-07 8.882133819412858e-08],\n",
       "             mask = [False False False False False False False False False False False False\n",
       " False False False False False False False False False False False False\n",
       " False False False False False False False False False False False False\n",
       " False False False False False False False False],\n",
       "       fill_value = 1e+20)"
      ]
     },
     "execution_count": 1294,
     "metadata": {},
     "output_type": "execute_result"
    }
   ],
   "source": [
    "T = beta_hat/S_beta_k\n",
    "T"
   ]
  },
  {
   "cell_type": "code",
   "execution_count": 1295,
   "metadata": {
    "collapsed": false
   },
   "outputs": [
    {
     "data": {
      "text/plain": [
       "2.5762552662136433"
      ]
     },
     "execution_count": 1295,
     "metadata": {},
     "output_type": "execute_result"
    }
   ],
   "source": [
    "alpha = 0.01\n",
    "t_2 = t.isf(0.005,N-P)\n",
    "t_2"
   ]
  },
  {
   "cell_type": "code",
   "execution_count": 1296,
   "metadata": {
    "collapsed": false
   },
   "outputs": [
    {
     "name": "stdout",
     "output_type": "stream",
     "text": [
      "(0, 3.5696818800019581e-07)\n",
      "(1, -4.8537292106913945e-07)\n",
      "(2, 4.3994234625189542e-07)\n",
      "(3, -1.3550202059423983e-06)\n",
      "(4, -3.0181237637015357e-07)\n",
      "(5, -2.0935447524818683e-07)\n",
      "(6, -6.9923172703156131e-07)\n",
      "(7, 1.3301385643050171e-06)\n",
      "(8, 8.5109504062153255e-07)\n",
      "(9, -1.0215496180374008e-06)\n",
      "(10, 3.8619043241369849e-07)\n",
      "(11, -1.8850987219770021e-07)\n",
      "(12, 1.5137933161450471e-06)\n",
      "(13, -4.3334058153180263e-07)\n",
      "(14, -1.9332837381686245e-07)\n",
      "(15, -3.0840778678498091e-07)\n",
      "(16, 0.11031908648219983)\n",
      "(17, -0.33215640566009286)\n",
      "(18, 0.20089337508912283)\n",
      "(19, 0.20954871341608169)\n",
      "(20, 0.11973597155814207)\n",
      "(21, 0.49648462401887317)\n",
      "(22, 0.22749933400119168)\n",
      "(23, 0.29587724275465443)\n",
      "(24, 0.66409318662217542)\n",
      "(25, -0.22192411025082437)\n",
      "(26, 0.57438820443743221)\n",
      "(27, -0.043582845653453404)\n",
      "(28, 0.24905696786930179)\n",
      "(29, 0.10238061251036644)\n",
      "(30, -0.7238854785132276)\n",
      "(31, -0.30751523592140967)\n",
      "(32, 0.11690607600284786)\n",
      "(33, 0.61516645444538853)\n",
      "(34, -0.057971357778773477)\n",
      "(35, 0.01517226567143384)\n",
      "(36, 0.29307166703731846)\n",
      "(37, 0.11727075153830062)\n",
      "(38, -0.34768944943990698)\n",
      "(39, 0.0066107669118400875)\n",
      "(40, 0.085532249691382956)\n",
      "(41, 2.0696189108313051e-07)\n",
      "(42, 1.3954213963552686e-07)\n",
      "(43, 8.8821338194128576e-08)\n"
     ]
    }
   ],
   "source": [
    "for i in range(len(T)):\n",
    "    if -t_2 < T[i] < t_2:\n",
    "        print((i,T[i]))"
   ]
  },
  {
   "cell_type": "code",
   "execution_count": null,
   "metadata": {
    "collapsed": true
   },
   "outputs": [],
   "source": []
  },
  {
   "cell_type": "code",
   "execution_count": null,
   "metadata": {
    "collapsed": true
   },
   "outputs": [],
   "source": []
  }
 ],
 "metadata": {
  "kernelspec": {
   "display_name": "Python 3",
   "language": "python",
   "name": "python3"
  },
  "language_info": {
   "codemirror_mode": {
    "name": "ipython",
    "version": 3
   },
   "file_extension": ".py",
   "mimetype": "text/x-python",
   "name": "python",
   "nbconvert_exporter": "python",
   "pygments_lexer": "ipython3",
   "version": "3.5.0"
  }
 },
 "nbformat": 4,
 "nbformat_minor": 0
}
