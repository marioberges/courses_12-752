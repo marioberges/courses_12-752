{
 "cells": [
  {
   "cell_type": "markdown",
   "metadata": {},
   "source": [
    "# 12-752 Course Project"
   ]
  },
  {
   "cell_type": "markdown",
   "metadata": {},
   "source": [
    "#### Xiaowen Gu (xiaoweng), Kenan Zhang (kenanz)"
   ]
  },
  {
   "cell_type": "code",
   "execution_count": 2,
   "metadata": {
    "collapsed": true
   },
   "outputs": [],
   "source": [
    "import numpy as np\n",
    "import matplotlib.pyplot as plt\n",
    "import datetime as dt\n",
    "%matplotlib inline"
   ]
  },
  {
   "cell_type": "markdown",
   "metadata": {},
   "source": [
    "### 1. Load Data"
   ]
  },
  {
   "cell_type": "markdown",
   "metadata": {},
   "source": [
    "#### 1.1 Energy Data of Gates"
   ]
  },
  {
   "cell_type": "code",
   "execution_count": 3,
   "metadata": {
    "collapsed": false,
    "scrolled": false
   },
   "outputs": [],
   "source": [
    "gatesDateConverter = lambda d : dt.datetime.strptime(d,'%m/%d/%Y %H:%M')\n",
    "gates_elect = np.genfromtxt('pointData_gates.csv',delimiter=\",\",names=True,\n",
    "            dtype=[dt.datetime,'f8'],converters={0: gatesDateConverter})"
   ]
  },
  {
   "cell_type": "code",
   "execution_count": 4,
   "metadata": {
    "collapsed": false
   },
   "outputs": [
    {
     "name": "stdout",
     "output_type": "stream",
     "text": [
      "2014-12-10 00:02:00 2015-11-10 23:55:00\n",
      "0:15:00\n",
      "1 day, 6:47:00 -1 day, 23:15:00\n"
     ]
    }
   ],
   "source": [
    "print gates_elect['Time'][0],gates_elect['Time'][-1]\n",
    "print gates_elect['Time'][1]-gates_elect['Time'][0]\n",
    "print np.max(np.diff(gates_elect['Time'])),np.min(np.diff(gates_elect['Time']))"
   ]
  },
  {
   "cell_type": "code",
   "execution_count": null,
   "metadata": {
    "collapsed": false
   },
   "outputs": [
    {
     "data": {
      "text/plain": [
       "<matplotlib.text.Text at 0x1093cd790>"
      ]
     },
     "execution_count": 5,
     "metadata": {},
     "output_type": "execute_result"
    },
    {
     "data": {
      "image/png": "[encoded data removed]",
      "text/plain": [
       "<matplotlib.figure.Figure at 0x108d9e910>"
      ]
     },
     "metadata": {},
     "output_type": "display_data"
    }
   ],
   "source": [
    "plt.figure(figsize=(15,5))\n",
    "plt.plot(gates_elect['Time'],gates_elect['Value'],'r')\n",
    "plt.xlabel('Time Stamp')\n",
    "plt.ylabel('Electricity Consumption')\n",
    "plt.title('GHC Electricity Consumption')"
   ]
  },
  {
   "cell_type": "markdown",
   "metadata": {},
   "source": [
    "As is shown in the figure, the load data is cumulated energy consumption from Dec 2014 to Dec 2015 with some time missing. The regular time interval is 15min."
   ]
  },
  {
   "cell_type": "markdown",
   "metadata": {},
   "source": [
    "#### 1.2 Occupancy Data of Gates"
   ]
  },
  {
   "cell_type": "code",
   "execution_count": null,
   "metadata": {
    "collapsed": false
   },
   "outputs": [],
   "source": [
    "occDateConverter = lambda d : dt.datetime.strptime(d,'%d-%b-%Y %H:%M:%S')\n",
    "occ_all = np.genfromtxt('occ_clean.csv',delimiter=\",\",\n",
    "                        dtype=[('timestamp', type(dt.datetime.now)),('id','f8'),('occ', 'f8')],\n",
    "                        converters={0: occDateConverter}, skip_header=1)"
   ]
  },
  {
   "cell_type": "code",
   "execution_count": null,
   "metadata": {
    "collapsed": false
   },
   "outputs": [],
   "source": [
    "print \"First sample is Office %d with occupancy %d on %s\"%(occ_all['id'][0],occ_all['occ'][0],occ_all['timestamp'][0])\n",
    "print occ_all['timestamp'][1]-occ_all['timestamp'][0]"
   ]
  },
  {
   "cell_type": "code",
   "execution_count": null,
   "metadata": {
    "collapsed": true
   },
   "outputs": [],
   "source": [
    "sample_office=occ_all[np.where(occ_all['id']==1)]"
   ]
  },
  {
   "cell_type": "code",
   "execution_count": null,
   "metadata": {
    "collapsed": false
   },
   "outputs": [],
   "source": [
    "plt.figure(figsize=(15,5))\n",
    "plt.plot(sample_office['timestamp'],sample_office['occ'],'r')\n",
    "plt.xlabel('Time Stamp')\n",
    "plt.ylabel('Occupancy')\n",
    "plt.title('Occupancy of Office 1')\n",
    "plt.ylim(0,1.5)"
   ]
  },
  {
   "cell_type": "markdown",
   "metadata": {},
   "source": [
    "As is shown in the figure, generally the occupancy data is from Sep 2014 to Dec 2015 with some time missing. And the time interval is around 20min but not regular."
   ]
  },
  {
   "cell_type": "markdown",
   "metadata": {},
   "source": [
    "#### 1.3 Energy Data of Other Building"
   ]
  },
  {
   "cell_type": "code",
   "execution_count": null,
   "metadata": {
    "collapsed": true
   },
   "outputs": [],
   "source": [
    "bakerDateConverter = lambda d : dt.datetime.strptime(d,'%m/%d/%Y %H:%M')\n",
    "baker_elect = np.genfromtxt('baker_energy.csv',delimiter=\",\",names=True,\n",
    "            dtype=[dt.datetime,'f8'],converters={0: bakerDateConverter})"
   ]
  },
  {
   "cell_type": "code",
   "execution_count": null,
   "metadata": {
    "collapsed": false
   },
   "outputs": [],
   "source": [
    "plt.figure(figsize=(15,5))\n",
    "plt.plot(baker_elect['Time'],gates_elect['BakerHall'],'r')\n",
    "plt.xlabel('Time Stamp')\n",
    "plt.ylabel('Electricity Consumption')\n",
    "plt.title('Baker Hall Electricity Consumption')"
   ]
  },
  {
   "cell_type": "markdown",
   "metadata": {},
   "source": [
    "#### 1.4 Temperature Data"
   ]
  },
  {
   "cell_type": "code",
   "execution_count": null,
   "metadata": {
    "collapsed": true
   },
   "outputs": [],
   "source": [
    "temperatureDateConverter = lambda d : dt.datetime.strptime(d,'%Y-%m-%d %H:%M:%S')\n",
    "temperature = np.genfromtxt('temperature.csv',delimiter=\",\",\n",
    "                            dtype=[('timestamp', type(dt.datetime.now)),('tempF', 'f8')],\n",
    "                            converters={0: temperatureDateConverter}, skip_header=1)"
   ]
  },
  {
   "cell_type": "code",
   "execution_count": null,
   "metadata": {
    "collapsed": false
   },
   "outputs": [],
   "source": [
    "plt.plot(temperature['timestamp'])"
   ]
  },
  {
   "cell_type": "code",
   "execution_count": null,
   "metadata": {
    "collapsed": false
   },
   "outputs": [],
   "source": [
    "print \"The minimum difference between any two consecutive timestamps is: \" + str(np.min(np.diff(temperature['timestamp'])))\n",
    "print \"The maximum difference between any two consecutive timestamps is: \" + str(np.max(np.diff(temperature['timestamp'])))   "
   ]
  },
  {
   "cell_type": "markdown",
   "metadata": {},
   "source": [
    "As there is no gap, change time interval to 15 minutes."
   ]
  },
  {
   "cell_type": "code",
   "execution_count": null,
   "metadata": {
    "collapsed": true
   },
   "outputs": [],
   "source": [
    "new_temperature = temperature[0:-1:3]"
   ]
  },
  {
   "cell_type": "code",
   "execution_count": null,
   "metadata": {
    "collapsed": false
   },
   "outputs": [],
   "source": [
    "print \"First timestamp is on \\t{}. \\nLast timestamp is on \\t{}.\".format(temperature['timestamp'][0], temperature['timestamp'][-1])"
   ]
  },
  {
   "cell_type": "markdown",
   "metadata": {},
   "source": [
    "### 2. Clean Data"
   ]
  },
  {
   "cell_type": "markdown",
   "metadata": {},
   "source": [
    "#### 2.1 Energy Data"
   ]
  },
  {
   "cell_type": "markdown",
   "metadata": {},
   "source": [
    "Calculate the electricity consumption for each interval"
   ]
  },
  {
   "cell_type": "code",
   "execution_count": null,
   "metadata": {
    "collapsed": false
   },
   "outputs": [],
   "source": [
    "gates_elect_value = []\n",
    "for i in range (1, len(gates_elect['Value'])):\n",
    "    gates_elect_value.append(gates_elect['Value'][i]-gates_elect['Value'][i-1]) "
   ]
  },
  {
   "cell_type": "code",
   "execution_count": null,
   "metadata": {
    "collapsed": false
   },
   "outputs": [],
   "source": [
    "print(len(gates_elect_value))\n",
    "print(len(gates_elect['Value']))"
   ]
  },
  {
   "cell_type": "code",
   "execution_count": null,
   "metadata": {
    "collapsed": false
   },
   "outputs": [],
   "source": [
    "plt.figure(figsize=(15,5))\n",
    "plt.plot(gates_elect['Time'][1:],gates_elect_value)\n",
    "plt.xlabel('Time')\n",
    "plt.ylabel('Electricity [kWh]')\n",
    "plt.ylim(-500,3000)"
   ]
  },
  {
   "cell_type": "code",
   "execution_count": null,
   "metadata": {
    "collapsed": true
   },
   "outputs": [],
   "source": [
    "gates_elect_value = np.array(gates_elect_value)\n",
    "value = np.where((gates_elect_value>10)*(gates_elect_value<200))"
   ]
  },
  {
   "cell_type": "code",
   "execution_count": null,
   "metadata": {
    "collapsed": false
   },
   "outputs": [],
   "source": [
    "plt.figure(figsize=(15,5))\n",
    "plt.plot(gates_elect['Time'][1:][value],gates_elect_value[value],'-b')\n",
    "plt.xlabel('Time')\n",
    "plt.ylabel('Electricity [kWh]')\n",
    "plt.ylim(80,200)"
   ]
  },
  {
   "cell_type": "code",
   "execution_count": null,
   "metadata": {
    "collapsed": false
   },
   "outputs": [],
   "source": [
    "print \"Power data from {0} to {1}.\\nTemperature data from {2} to {3}\".format(gates_elect['Time'][1:][value][0], gates_elect['Time'][1:][value][-1],new_temperature['timestamp'][2:][0], new_temperature['timestamp'][2:][-1])"
   ]
  },
  {
   "cell_type": "code",
   "execution_count": null,
   "metadata": {
    "collapsed": true
   },
   "outputs": [],
   "source": [
    "new_temperature = new_temperature[0:-24] "
   ]
  },
  {
   "cell_type": "code",
   "execution_count": null,
   "metadata": {
    "collapsed": true
   },
   "outputs": [],
   "source": [
    "newElectValues = interp(gates_elect['Time'][1:][value], gates_elect_value[value], new_temperature['timestamp'][2:])"
   ]
  },
  {
   "cell_type": "code",
   "execution_count": null,
   "metadata": {
    "collapsed": false
   },
   "outputs": [],
   "source": [
    "toposix = lambda d: (d - dt.datetime(1970,1,1,0,0,0)).total_seconds()\n",
    "\n",
    "timestamp_in_seconds = map(toposix,new_temperature['timestamp'])\n",
    "timestamps = new_temperature['timestamp'][2:]\n",
    "temp_values = new_temperature['tempF'][2:]\n",
    "elect_values = newElectValues\n",
    "print(timestamps[0],timestamps[-1])"
   ]
  },
  {
   "cell_type": "code",
   "execution_count": null,
   "metadata": {
    "collapsed": false
   },
   "outputs": [],
   "source": [
    "len(temp_values)==len(elect_values)"
   ]
  },
  {
   "cell_type": "code",
   "execution_count": null,
   "metadata": {
    "collapsed": true
   },
   "outputs": [],
   "source": [
    "weekday = map(lambda t: t.weekday(), timestamps)\n",
    "weekday = np.array(weekday)\n",
    "weekends = np.where(weekday>=5) ## Note that depending on how you do this, the result could be a tuple of ndarrays.\n",
    "weekdays = np.where(weekday<5)"
   ]
  },
  {
   "cell_type": "code",
   "execution_count": null,
   "metadata": {
    "collapsed": false
   },
   "outputs": [],
   "source": [
    "plt.figure(figsize=(15,5))\n",
    "plt.plot(timestamps[weekdays[0]],elect_values[weekdays[0]],'--b')\n",
    "plt.figure(figsize=(15,5))\n",
    "plt.plot(timestamps[weekdays[0]], temp_values[weekdays[0]], '--r')"
   ]
  },
  {
   "cell_type": "markdown",
   "metadata": {},
   "source": [
    "#### 2.2 Occupancy Data"
   ]
  },
  {
   "cell_type": "markdown",
   "metadata": {},
   "source": [
    "##### Find the latest starting time and the earliest ending time"
   ]
  },
  {
   "cell_type": "code",
   "execution_count": null,
   "metadata": {
    "collapsed": false
   },
   "outputs": [],
   "source": [
    "def startEndOffice(id_office,occ):\n",
    "    n=len(id_office)\n",
    "    startEndList=np.empty([n,2],dtype=type(dt.datetime.now))\n",
    "    for i in range(n):\n",
    "        office=occ[np.where(occ['id']==id_office[i])]\n",
    "        startEndList[i,:]=np.array([office['timestamp'][0],office['timestamp'][-1]])  \n",
    "    return startEndList"
   ]
  },
  {
   "cell_type": "markdown",
   "metadata": {},
   "source": [
    "Test startEndOffice function"
   ]
  },
  {
   "cell_type": "code",
   "execution_count": null,
   "metadata": {
    "collapsed": false
   },
   "outputs": [],
   "source": [
    "sample_start_end_office=startEndOffice([1],sample_office)\n",
    "print min(sample_start_end_office[:,0])\n",
    "print max(sample_start_end_office[:,1])"
   ]
  },
  {
   "cell_type": "markdown",
   "metadata": {},
   "source": [
    "Find and print the latest starting time and the earliest ending time of all offices"
   ]
  },
  {
   "cell_type": "code",
   "execution_count": null,
   "metadata": {
    "collapsed": true
   },
   "outputs": [],
   "source": [
    "id_office=np.unique(occ_all['id'])"
   ]
  },
  {
   "cell_type": "code",
   "execution_count": null,
   "metadata": {
    "collapsed": false
   },
   "outputs": [],
   "source": [
    "start_end_office=startEndOffice(id_office,occ_all)\n",
    "print max(start_end_office[:,0]),min(start_end_office[:,1])"
   ]
  },
  {
   "cell_type": "code",
   "execution_count": null,
   "metadata": {
    "collapsed": false
   },
   "outputs": [],
   "source": [
    "date_1=dt.datetime(2014,10,28)\n",
    "date_2=dt.datetime(2015,12,10)\n",
    "print date_1.weekday(),date_2.weekday()"
   ]
  },
  {
   "cell_type": "markdown",
   "metadata": {},
   "source": [
    "The latest starting date is 2014-10-28 Tue; the earliest ending date is 2015-12-10 Thu"
   ]
  },
  {
   "cell_type": "markdown",
   "metadata": {},
   "source": [
    "##### Initiate the Time Series of Building Occupancy"
   ]
  },
  {
   "cell_type": "code",
   "execution_count": null,
   "metadata": {
    "collapsed": false
   },
   "outputs": [],
   "source": [
    "def generateTimeSeries(start,end,step):\n",
    "    #generat a time series with input start, end and step\n",
    "    #skip weekends\n",
    "    ts = []\n",
    "    t=start\n",
    "    while t <= end:\n",
    "        if t.weekday() < 5:\n",
    "            ts.append(t)\n",
    "        t += step\n",
    "    return ts"
   ]
  },
  {
   "cell_type": "markdown",
   "metadata": {},
   "source": [
    "Test generateTimeSeries function"
   ]
  },
  {
   "cell_type": "code",
   "execution_count": null,
   "metadata": {
    "collapsed": false
   },
   "outputs": [],
   "source": [
    "start=dt.datetime(2015,12,3)\n",
    "end=dt.datetime(2015,12,5,23,45)\n",
    "step = dt.timedelta(minutes=15)\n",
    "print start,end,step\n",
    "ts_test=generateTimeSeries(start,end,step)\n",
    "print ts_test[0],ts_test[-1]"
   ]
  },
  {
   "cell_type": "markdown",
   "metadata": {},
   "source": [
    "Generate an occupancy time series with starting time 2014-11-03 00:00:00 Mon, ending time 2015-12-04 23:45:00 Fri and time step 15min without weekends."
   ]
  },
  {
   "cell_type": "code",
   "execution_count": null,
   "metadata": {
    "collapsed": false
   },
   "outputs": [],
   "source": [
    "start=dt.datetime(2014,11,3,0,0)\n",
    "end=dt.datetime(2015,12,4,23,45)\n",
    "step = dt.timedelta(minutes=15)\n",
    "ts_occ=generateTimeSeries(start,end,step)\n",
    "print ts_occ[0],ts_occ[-1]\n",
    "print np.shape(ts_occ)"
   ]
  },
  {
   "cell_type": "markdown",
   "metadata": {},
   "source": [
    "### 3. Prepare Data"
   ]
  },
  {
   "cell_type": "markdown",
   "metadata": {},
   "source": [
    "#### 3.1 Harmonize Time Series"
   ]
  },
  {
   "cell_type": "code",
   "execution_count": null,
   "metadata": {
    "collapsed": true
   },
   "outputs": [],
   "source": [
    "def interp(tP, P, tT):\n",
    "    # This function assumes that the input is an numpy.ndarray of datetime objects\n",
    "\n",
    "    # Most useful interpolation tools don't work well with datetime objects\n",
    "    # so we convert all datetime objects into the number of seconds elapsed\n",
    "    # since 1/1/1970 at midnight (also called the UNIX Epoch, or POSIX time):\n",
    "    \n",
    "    toposix = lambda d: (d - dt.datetime(1970,1,1,0,0,0)).total_seconds()\n",
    "    tP = map(toposix, tP)\n",
    "    tT = map(toposix, tT)\n",
    "    \n",
    "    # Now we interpolate\n",
    "    from scipy.interpolate import interp1d\n",
    "    f = interp1d(tP, P,'linear')\n",
    "    \n",
    "    return f(tT)"
   ]
  },
  {
   "cell_type": "markdown",
   "metadata": {},
   "source": [
    "#### 3.2 Calculate Occupancy Level"
   ]
  },
  {
   "cell_type": "markdown",
   "metadata": {},
   "source": [
    "Test occupancy interpolation"
   ]
  },
  {
   "cell_type": "code",
   "execution_count": null,
   "metadata": {
    "collapsed": false
   },
   "outputs": [],
   "source": [
    "sample_interp=interp(sample_office['timestamp'],sample_office['occ'],ts_occ)\n",
    "print np.shape(sample_interp)"
   ]
  },
  {
   "cell_type": "code",
   "execution_count": null,
   "metadata": {
    "collapsed": false
   },
   "outputs": [],
   "source": [
    "plt.figure(figsize=(15,5))\n",
    "plt.plot(ts_occ,sample_interp,'r')\n",
    "plt.xlabel('Time Stamp')\n",
    "plt.ylabel('Occupancy')\n",
    "plt.title('Interpolated Occupancy of Office 1')\n",
    "plt.ylim(0,1.5)"
   ]
  },
  {
   "cell_type": "code",
   "execution_count": null,
   "metadata": {
    "collapsed": true
   },
   "outputs": [],
   "source": [
    "def interpOcc(id_office,occ_all,ts_occ):\n",
    "    occ=np.zeros(len(ts_occ))\n",
    "    for i in range(len(id_office)):\n",
    "        office=occ_all[np.where(occ_all['id']==id_office[i])]\n",
    "        occ=np.add(occ,interp(office['timestamp'],office['occ'],ts_occ))\n",
    "    occ_interp=np.ndarray(shape=(len(ts_occ)),dtype=[('timestamp',dt.datetime),('occ',float)])\n",
    "    occ_interp['timestamp']=ts_occ\n",
    "    occ_interp['occ']=np.divide(occ,len(id_office))\n",
    "    return occ_interp    "
   ]
  },
  {
   "cell_type": "markdown",
   "metadata": {},
   "source": [
    "Test interpOcc function"
   ]
  },
  {
   "cell_type": "code",
   "execution_count": null,
   "metadata": {
    "collapsed": false
   },
   "outputs": [],
   "source": [
    "sample_office_2=occ_all[(occ_all['id']==1)|(occ_all['id']==2)]\n",
    "print np.shape(sample_office_2)"
   ]
  },
  {
   "cell_type": "code",
   "execution_count": null,
   "metadata": {
    "collapsed": false
   },
   "outputs": [],
   "source": [
    "sample_interp_2=interpOcc([1,2],sample_office_2,ts_occ)"
   ]
  },
  {
   "cell_type": "code",
   "execution_count": null,
   "metadata": {
    "collapsed": false
   },
   "outputs": [],
   "source": [
    "plt.figure(figsize=(15,5))\n",
    "plt.plot(ts_occ,sample_interp_2['occ'],'r')\n",
    "plt.xlabel('Time Stamp')\n",
    "plt.ylabel('Occupancy')\n",
    "plt.title('Interpolated Occupancy of Office 1 & 2')\n",
    "plt.ylim(0,1.5)"
   ]
  },
  {
   "cell_type": "markdown",
   "metadata": {},
   "source": [
    "Interpolate occupancy data and calculate occupancy level"
   ]
  },
  {
   "cell_type": "code",
   "execution_count": null,
   "metadata": {
    "collapsed": false
   },
   "outputs": [],
   "source": [
    "occ_interp=interpOcc(id_office,occ_all,ts_occ)"
   ]
  },
  {
   "cell_type": "code",
   "execution_count": null,
   "metadata": {
    "collapsed": false
   },
   "outputs": [],
   "source": [
    "plt.figure(figsize=(15,5))\n",
    "plt.plot(ts_occ,occ_interp['occ'],'b')\n",
    "plt.xlabel('Time Stamp')\n",
    "plt.ylabel('Occupancy')\n",
    "plt.title('Interpolated GHC Occupancy Level')\n",
    "plt.ylim(0,1)"
   ]
  },
  {
   "cell_type": "markdown",
   "metadata": {},
   "source": [
    "As is shown in the figure, there is missing data in Aug and Sep. Besides, the occupancy level was relatively low during the Jan and late Jun due to the winter and summer break. Therefore, we further zoom into spring and fall semester to determine the time period used in our study."
   ]
  },
  {
   "cell_type": "markdown",
   "metadata": {},
   "source": [
    "#### 3.3 Crop Study Period"
   ]
  },
  {
   "cell_type": "markdown",
   "metadata": {},
   "source": [
    "According the academic calendar of CMU, Fall 2014 ended by Dec 12 while Spring 2015 started from Jan 12. Therefore, we firstly plot the occupancy from Nov 3 to Dec 12."
   ]
  },
  {
   "cell_type": "code",
   "execution_count": null,
   "metadata": {
    "collapsed": false
   },
   "outputs": [],
   "source": [
    "t_1=dt.datetime(2014,12,13)\n",
    "occ_1=occ_interp[np.where(occ_interp['timestamp']<t_1)]\n",
    "print np.shape(occ_1)"
   ]
  },
  {
   "cell_type": "code",
   "execution_count": null,
   "metadata": {
    "collapsed": false
   },
   "outputs": [],
   "source": [
    "plt.figure(figsize=(15,5))\n",
    "plt.plot(occ_1['timestamp'],occ_1['occ'],'b')\n",
    "plt.xlabel('Time Stamp')\n",
    "plt.ylabel('Occupancy')\n",
    "plt.title('GHC Occupancy Level Fall 2014 (Nov 3 to Dec 12)')\n",
    "plt.ylim(0,1)"
   ]
  },
  {
   "cell_type": "markdown",
   "metadata": {},
   "source": [
    "Similarly, we plot spring and summer semester of 2015, specifically from Jan 12 to May 15 and from May 18 to Aug 7. Fall 2015 started from Aug 31."
   ]
  },
  {
   "cell_type": "code",
   "execution_count": null,
   "metadata": {
    "collapsed": false
   },
   "outputs": [],
   "source": [
    "t_2=dt.datetime(2015,1,12)\n",
    "t_3=dt.datetime(2015,5,16)\n",
    "t_4=dt.datetime(2015,5,18)\n",
    "t_5=dt.datetime(2015,8,8)\n",
    "t_6=dt.datetime(2015,8,31)\n",
    "occ_2=occ_interp[np.where((occ_interp['timestamp']>=t_2)&(occ_interp['timestamp']<t_3))]\n",
    "occ_3=occ_interp[np.where((occ_interp['timestamp']>=t_4)&(occ_interp['timestamp']<t_5))]\n",
    "occ_4=occ_interp[np.where(occ_interp['timestamp']>=t_6)]\n",
    "print np.shape(occ_2),np.shape(occ_3),np.shape(occ_4)"
   ]
  },
  {
   "cell_type": "code",
   "execution_count": null,
   "metadata": {
    "collapsed": false
   },
   "outputs": [],
   "source": [
    "plt.figure(figsize=(15,5))\n",
    "plt.plot(occ_2['timestamp'],occ_2['occ'],'b')\n",
    "plt.xlabel('Time Stamp')\n",
    "plt.ylabel('Occupancy')\n",
    "plt.title('GHC Occupancy Level Spring 2015 (Jan 12 to May 15)')\n",
    "plt.ylim(0,1)"
   ]
  },
  {
   "cell_type": "code",
   "execution_count": null,
   "metadata": {
    "collapsed": false
   },
   "outputs": [],
   "source": [
    "plt.figure(figsize=(15,5))\n",
    "plt.plot(occ_3['timestamp'],occ_3['occ'],'b')\n",
    "plt.xlabel('Time Stamp')\n",
    "plt.ylabel('Occupancy')\n",
    "plt.title('GHC Occupancy Level Summer 2015 (May 18 to Aug 7)')\n",
    "plt.ylim(0,1)"
   ]
  },
  {
   "cell_type": "code",
   "execution_count": null,
   "metadata": {
    "collapsed": false
   },
   "outputs": [],
   "source": [
    "plt.figure(figsize=(15,5))\n",
    "plt.plot(occ_4['timestamp'],occ_4['occ'],'b')\n",
    "plt.xlabel('Time Stamp')\n",
    "plt.ylabel('Occupancy')\n",
    "plt.title('GHC Occupancy Level Fall 2015 (Aug 31 to Dec 4)')\n",
    "plt.ylim(0,1)"
   ]
  },
  {
   "cell_type": "markdown",
   "metadata": {},
   "source": [
    "Based on figures above, we choose Nov 3 to Dec 12 2014 (6w), Jan 12 to Apr 3 (12w), Apr 20 to May 15 (4w), Jun 22 to Jul 17 (4w) and Sep 28 to Dec 4 (10w), 36 weeks in total, to build our models."
   ]
  },
  {
   "cell_type": "markdown",
   "metadata": {},
   "source": [
    "Although we choose discrete time periods, for each of them the number of weeks is even thus we could split the traning set and test set week by week."
   ]
  },
  {
   "cell_type": "markdown",
   "metadata": {},
   "source": [
    "##### Define start and end arrays"
   ]
  },
  {
   "cell_type": "code",
   "execution_count": null,
   "metadata": {
    "collapsed": false
   },
   "outputs": [],
   "source": [
    "start=np.array([dt.datetime(2014,11,3),dt.datetime(2015,1,12),dt.datetime(2015,4,20),dt.datetime(2015,6,22),dt.datetime(2015,9,28)])\n",
    "end=np.array([dt.datetime(2014,12,13),dt.datetime(2015,4,4),dt.datetime(2015,5,16),dt.datetime(2015,7,17),dt.datetime(2015,12,5)])\n",
    "print start\n",
    "print end"
   ]
  },
  {
   "cell_type": "markdown",
   "metadata": {},
   "source": [
    "##### Crop data"
   ]
  },
  {
   "cell_type": "code",
   "execution_count": null,
   "metadata": {
    "collapsed": true
   },
   "outputs": [],
   "source": [
    "def cropData(data,ts,start,end):\n",
    "    n=np.shape(start)[0]\n",
    "    crop=np.array([],dtype=int)\n",
    "    for i in range(n):\n",
    "        r=np.where((data['timestamp']>=start[i])&(data['timestamp']<end[i]))\n",
    "        crop=np.append(crop,r[0])\n",
    "    return data[crop]                  "
   ]
  },
  {
   "cell_type": "markdown",
   "metadata": {},
   "source": [
    "Test cropData function"
   ]
  },
  {
   "cell_type": "code",
   "execution_count": null,
   "metadata": {
    "collapsed": false
   },
   "outputs": [],
   "source": [
    "sample_crop=cropData(sample_interp_2,ts_occ,start,end)\n",
    "print np.shape(sample_crop)\n",
    "print sample_crop['timestamp'][0],sample_crop['timestamp'][-1]"
   ]
  },
  {
   "cell_type": "markdown",
   "metadata": {},
   "source": [
    "Crop the occupancy data"
   ]
  },
  {
   "cell_type": "code",
   "execution_count": null,
   "metadata": {
    "collapsed": true
   },
   "outputs": [],
   "source": [
    "occ_crop=cropData(occ_interp,ts_occ,start,end)"
   ]
  },
  {
   "cell_type": "code",
   "execution_count": null,
   "metadata": {
    "collapsed": false
   },
   "outputs": [],
   "source": [
    "plt.figure(figsize=(15,5))\n",
    "plt.plot(occ_crop['timestamp'],occ_crop['occ'],'b')\n",
    "plt.xlabel('Time Stamp')\n",
    "plt.ylabel('Occupancy')\n",
    "plt.title('Cropped GHC Occupancy Level')\n",
    "plt.ylim(0,1)"
   ]
  },
  {
   "cell_type": "markdown",
   "metadata": {},
   "source": [
    "#### 3.4 Harmonize data for temperature, electricity & occupancy"
   ]
  },
  {
   "cell_type": "code",
   "execution_count": null,
   "metadata": {
    "collapsed": true
   },
   "outputs": [],
   "source": [
    "new_temp = temp_values[weekdays[0]][0:22080]\n",
    "new_elect = elect_values[weekdays[0]][0:22080]\n",
    "new_timestamp = timestamps[weekdays[0]][0:22080]\n",
    "temp = []\n",
    "temp.extend(new_temp[2206:7966])\n",
    "temp.extend(new_temp[8926:10846])\n",
    "temp.extend(new_temp[13246:14686])\n",
    "temp.extend(new_temp[19966:21886])\n",
    "\n",
    "elect = []\n",
    "elect.extend(new_elect[2206:7966])\n",
    "elect.extend(new_elect[8926:10846])\n",
    "elect.extend(new_elect[13246:14686])\n",
    "elect.extend(new_elect[19966:21886])\n",
    "\n",
    "tstamp = []\n",
    "tstamp.extend(new_timestamp[2206:7966])\n",
    "tstamp.extend(new_timestamp[8926:10846])\n",
    "tstamp.extend(new_timestamp[13246:14686])\n",
    "tstamp.extend(new_timestamp[19966:21886])\n"
   ]
  },
  {
   "cell_type": "markdown",
   "metadata": {},
   "source": [
    "### 4. Building Energy Model without Occupancy"
   ]
  },
  {
   "cell_type": "markdown",
   "metadata": {},
   "source": [
    "#### 4.1 Design Matrix with/without Occupancy"
   ]
  },
  {
   "cell_type": "code",
   "execution_count": null,
   "metadata": {
    "collapsed": true
   },
   "outputs": [],
   "source": [
    "def Tc(temperature, T_bound):\n",
    "    # The return value will be a matrix with as many rows as the temperature\n",
    "    # array, and as many columns as len(T_bound) [assuming that 0 is the first boundary]\n",
    "    \n",
    "    Tc_matrix = np.zeros((len(temperature), len(T_bound)))\n",
    "    for i in range (len(temperature)):\n",
    "        temp = temperature[i]\n",
    "        if temp > T_bound[0]:\n",
    "            Tc_matrix[i,0] = T_bound[0]\n",
    "        else:\n",
    "            Tc_matrix[i,0] = temp\n",
    "        for j in range (1, len(T_bound)):\n",
    "            if temp > T_bound[j]:\n",
    "                Tc_matrix[i,j] = T_bound[j] - T_bound[j-1]\n",
    "            elif temp > T_bound[j-1]:\n",
    "                Tc_matrix[i,j] = temp - T_bound[j-1]               \n",
    "    return Tc_matrix"
   ]
  },
  {
   "cell_type": "code",
   "execution_count": null,
   "metadata": {
    "collapsed": true
   },
   "outputs": [],
   "source": [
    "def DesignMatrix(temperature, timestamps_num, temp_bounds):\n",
    "    #timestamps_num is the number of data points for a week\n",
    "    #The total number of data points will be cleaned before calling this \n",
    "    #function to ensure len(temperature) is divisible by timestamps_num.\n",
    "    weeks_num = len(temperature)//timestamps_num\n",
    "    I = np.identity(timestamps_num)\n",
    "    tiled_I = np.tile(I, (weeks_num,1))\n",
    "    T = Tc(temperature, temp_bounds)        \n",
    "    X = np.concatenate((tiled_I, T), axis = 1)\n",
    "    return np.matrix(X)\n",
    "\n",
    "def DesignMatrix2(temperature, timestamps_num, temp_bounds, occupancy):\n",
    "    weeks_num = len(temperature)//timestamps_num\n",
    "    I = np.identity(timestamps_num)\n",
    "    tiled_I = np.tile(I, (weeks_num,1))\n",
    "    T = Tc(temperature, temp_bounds)        \n",
    "    X = np.concatenate((tiled_I, T), axis = 1)\n",
    "    new_X = np.concatenate((X, occupancy), axis = 1)\n",
    "    return np.matrix(new_X)"
   ]
  },
  {
   "cell_type": "markdown",
   "metadata": {},
   "source": [
    "#### 4.2 Coefficient  Estimation"
   ]
  },
  {
   "cell_type": "code",
   "execution_count": null,
   "metadata": {
    "collapsed": true
   },
   "outputs": [],
   "source": [
    "def beta_hat(X, elect_values):\n",
    "    X_T = np.transpose(X)\n",
    "    b = np.linalg.inv(X_T*X) * X_T * elect_values\n",
    "    return b"
   ]
  },
  {
   "cell_type": "markdown",
   "metadata": {},
   "source": [
    "#### 4.3 Define Training and Test Data"
   ]
  },
  {
   "cell_type": "code",
   "execution_count": null,
   "metadata": {
    "collapsed": false
   },
   "outputs": [],
   "source": [
    "new_temp = temp_values[weekdays[0]][0:22080]\n",
    "new_elect = elect_values[weekdays[0]][0:22080]\n",
    "new_timestamp = timestamps[weekdays[0]][0:22080]\n",
    "\n",
    "train_temp = []\n",
    "test_temp = []\n",
    "for i in range(23):\n",
    "    train_temp.extend(new_temp[960*i:960*i+480])\n",
    "    test_temp.extend(new_temp[960*i+480:960*i+960])\n",
    "\n",
    "train_elect = []\n",
    "test_elect = []\n",
    "for i in range(23):\n",
    "    train_elect.extend(new_elect[960*i:960*i+480])\n",
    "    test_elect.extend(new_elect[960*i+480:960*i+960])\n",
    "    \n",
    "train_timestamps = []\n",
    "test_timestamps = []\n",
    "for i in range(23):\n",
    "    train_timestamps.extend(new_timestamp[960*i:960*i+480])\n",
    "    test_timestamps.extend(new_timestamp[960*i+480:960*i+960])\n",
    "print(train_timestamps[0],test_timestamps[-1])"
   ]
  },
  {
   "cell_type": "code",
   "execution_count": null,
   "metadata": {
    "collapsed": true
   },
   "outputs": [],
   "source": [
    "train_T_bound = (40,50,60,70,80,90)\n",
    "test_T_bound = (40,50,60,70,80,90)"
   ]
  },
  {
   "cell_type": "code",
   "execution_count": null,
   "metadata": {
    "collapsed": true
   },
   "outputs": [],
   "source": [
    "train_X = DesignMatrix(train_temp,480, train_T_bound)"
   ]
  },
  {
   "cell_type": "code",
   "execution_count": null,
   "metadata": {
    "collapsed": false
   },
   "outputs": [],
   "source": [
    "train_elect_trans = np.transpose(np.matrix(train_elect))\n",
    "betahat = beta_hat(train_X, train_elect_trans)"
   ]
  },
  {
   "cell_type": "code",
   "execution_count": null,
   "metadata": {
    "collapsed": true
   },
   "outputs": [],
   "source": [
    "test_X = DesignMatrix(test_temp,480, test_T_bound)"
   ]
  },
  {
   "cell_type": "code",
   "execution_count": null,
   "metadata": {
    "collapsed": true
   },
   "outputs": [],
   "source": [
    "predict_y = test_X * betahat"
   ]
  },
  {
   "cell_type": "code",
   "execution_count": null,
   "metadata": {
    "collapsed": false
   },
   "outputs": [],
   "source": [
    "plt.figure(figsize=(15,5))\n",
    "plt.plot(predict_y[1000:2000], 'r-', label = \"Predicted\")\n",
    "plt.plot(test_elect[1000:2000], 'b-', label = \"Actual\")\n",
    "plt.ylim(100,200)\n",
    "plt.xlabel(\"Time\",size=15)\n",
    "plt.ylabel(\"Electricity [kWh]\",size=15)\n",
    "plt.legend(loc=\"upper left\")\n",
    "plt.title('Original Model')"
   ]
  },
  {
   "cell_type": "markdown",
   "metadata": {},
   "source": [
    "##### T-test & R-square "
   ]
  },
  {
   "cell_type": "code",
   "execution_count": null,
   "metadata": {
    "collapsed": true
   },
   "outputs": [],
   "source": [
    "X = test_X\n",
    "Y = np.matrix(test_elect).T\n",
    "y_bar = np.matrix([[np.mean(Y)]*len(Y)]).T"
   ]
  },
  {
   "cell_type": "code",
   "execution_count": null,
   "metadata": {
    "collapsed": false
   },
   "outputs": [],
   "source": [
    "R_squared = 1-((Y-X*betahat).T*(Y-X*betahat))/((Y-y_bar).T*(Y-y_bar))\n",
    "print R_squared[0,0]"
   ]
  },
  {
   "cell_type": "code",
   "execution_count": null,
   "metadata": {
    "collapsed": false
   },
   "outputs": [],
   "source": [
    "from scipy.stats import t"
   ]
  },
  {
   "cell_type": "code",
   "execution_count": null,
   "metadata": {
    "collapsed": false
   },
   "outputs": [],
   "source": [
    "n = 11040\n",
    "p = 486\n",
    "t.isf((1-0.95)/2,n-p)"
   ]
  },
  {
   "cell_type": "code",
   "execution_count": null,
   "metadata": {
    "collapsed": false
   },
   "outputs": [],
   "source": [
    "MSE = (Y-X*betahat).T*(Y-X*betahat)/(n-p)\n",
    "S_betahat_sqr = np.multiply(MSE, np.linalg.inv(X.T*X))\n",
    "S_betahatk_sqr = S_betahat_sqr.diagonal()\n",
    "S_betahatk = np.sqrt(S_betahatk_sqr.T)"
   ]
  },
  {
   "cell_type": "code",
   "execution_count": null,
   "metadata": {
    "collapsed": true
   },
   "outputs": [],
   "source": [
    "T = []\n",
    "for i in range(486):\n",
    "    T.append(np.array(betahat[i,:])[0][0]/np.array(S_betahatk[i,:])[0][0])\n",
    "def rej_coef(T):\n",
    "    rej_list = []\n",
    "    for i in range(len(T)):\n",
    "        if T[i] > t.isf((1-0.95)/2,n-p) or T[i] < -t.isf((1-0.95)/2,n-p):\n",
    "            rej_list.append(T[i])\n",
    "    return rej_list"
   ]
  },
  {
   "cell_type": "code",
   "execution_count": null,
   "metadata": {
    "collapsed": false
   },
   "outputs": [],
   "source": [
    "len(rej_coef(T))"
   ]
  },
  {
   "cell_type": "markdown",
   "metadata": {},
   "source": [
    "The model has 486 coefficients therefore H0 hypothesis of all vairables is rejected"
   ]
  },
  {
   "cell_type": "markdown",
   "metadata": {},
   "source": [
    "### 5. Occupancy Pattern Model"
   ]
  },
  {
   "cell_type": "markdown",
   "metadata": {},
   "source": [
    "#### 5.1 Define State of Occupancy Level"
   ]
  },
  {
   "cell_type": "markdown",
   "metadata": {},
   "source": [
    "##### Define occupany state based on the pattern of real occupancy level"
   ]
  },
  {
   "cell_type": "markdown",
   "metadata": {},
   "source": [
    "To define the occupancy state, we firstly plot the occupancy level of a sample week and a sample"
   ]
  },
  {
   "cell_type": "code",
   "execution_count": null,
   "metadata": {
    "collapsed": true
   },
   "outputs": [],
   "source": [
    "def weekdayArray(data):\n",
    "    weekday = map(lambda t: t.weekday(), data['timestamp'])\n",
    "    return np.asarray(weekday)"
   ]
  },
  {
   "cell_type": "code",
   "execution_count": null,
   "metadata": {
    "collapsed": true
   },
   "outputs": [],
   "source": [
    "def hourArray(data):\n",
    "    hour = map(lambda t: t.hour, data['timestamp'])\n",
    "    return np.asarray(hour)"
   ]
  },
  {
   "cell_type": "code",
   "execution_count": null,
   "metadata": {
    "collapsed": true
   },
   "outputs": [],
   "source": [
    "def minuteArray(data):\n",
    "    minute = map(lambda t: t.minute, data['timestamp'])\n",
    "    return np.asarray(minute)"
   ]
  },
  {
   "cell_type": "markdown",
   "metadata": {},
   "source": [
    "Sample week occupancy data"
   ]
  },
  {
   "cell_type": "code",
   "execution_count": null,
   "metadata": {
    "collapsed": false
   },
   "outputs": [],
   "source": [
    "week_start=np.where((weekdayArray(occ_crop)==0)&(hourArray(occ_crop)==0)&(minuteArray(occ_crop)==0))[0]\n",
    "print np.shape(week_start)\n",
    "sample_week=occ_crop[week_start[0]:week_start[1]]\n",
    "print np.shape(sample_week)"
   ]
  },
  {
   "cell_type": "code",
   "execution_count": null,
   "metadata": {
    "collapsed": false
   },
   "outputs": [],
   "source": [
    "day_start=np.where((hourArray(sample_week)==0)&(minuteArray(sample_week)==0))[0]\n",
    "print np.shape(day_start)\n",
    "sample_day=occ_crop[day_start[0]:day_start[1]]\n",
    "print np.shape(sample_day)"
   ]
  },
  {
   "cell_type": "code",
   "execution_count": null,
   "metadata": {
    "collapsed": false
   },
   "outputs": [],
   "source": [
    "plt.figure(figsize=(15,5))\n",
    "plt.plot(sample_week['timestamp'],sample_week['occ'],'b')\n",
    "plt.xlabel('Time Stamp')\n",
    "plt.ylabel('Occupancy')\n",
    "plt.title('GHC Occupancy Level of Sample Week')\n",
    "plt.ylim(0,1)"
   ]
  },
  {
   "cell_type": "code",
   "execution_count": null,
   "metadata": {
    "collapsed": false
   },
   "outputs": [],
   "source": [
    "plt.figure(figsize=(15,5))\n",
    "plt.plot(sample_day['timestamp'],sample_day['occ'],'b')\n",
    "plt.xlabel('Time Stamp')\n",
    "plt.ylabel('Occupancy')\n",
    "plt.title('GHC Occupancy Level of Sample Day')\n",
    "plt.ylim(0,1)"
   ]
  },
  {
   "cell_type": "markdown",
   "metadata": {},
   "source": [
    "As is shown in the figures, there is little difference among weekdays, and the range of daily occupancy is between 0.1 to 0.8. Therefore, we define the occupancy states as [0.1,0.3,0.6,0.8]."
   ]
  },
  {
   "cell_type": "code",
   "execution_count": null,
   "metadata": {
    "collapsed": false
   },
   "outputs": [],
   "source": [
    "state=np.array([0.1,0.3,0.6,0.8])\n",
    "print state"
   ]
  },
  {
   "cell_type": "markdown",
   "metadata": {},
   "source": [
    "We also plot the sample day occupancy level and the occupancy state to validate our assumption"
   ]
  },
  {
   "cell_type": "code",
   "execution_count": null,
   "metadata": {
    "collapsed": true
   },
   "outputs": [],
   "source": [
    "def plotOccState(occ,state):\n",
    "    n=np.shape(occ)[0]\n",
    "    plt.figure(figsize=(15,5))\n",
    "    plt.plot(occ['timestamp'],occ['occ'],'b')\n",
    "    for i in state:\n",
    "        s=i*np.ones(n)\n",
    "        plt.plot(occ['timestamp'],s,'r')\n",
    "    plt.xlabel('Time Stamp')\n",
    "    plt.ylabel('Occupancy')\n",
    "    plt.title('Occupancy Level vs Occupancy State')\n",
    "    plt.ylim(0,1)"
   ]
  },
  {
   "cell_type": "code",
   "execution_count": null,
   "metadata": {
    "collapsed": false
   },
   "outputs": [],
   "source": [
    "plotOccState(sample_day,state)"
   ]
  },
  {
   "cell_type": "markdown",
   "metadata": {},
   "source": [
    "##### Build occupancy state Matrix"
   ]
  },
  {
   "cell_type": "markdown",
   "metadata": {},
   "source": [
    "Calculate the difference between real occupancy and occupancy state"
   ]
  },
  {
   "cell_type": "code",
   "execution_count": null,
   "metadata": {
    "collapsed": false
   },
   "outputs": [],
   "source": [
    "occ_data=np.matrix(occ_crop['occ']).T\n",
    "n_data=len(occ_data)\n",
    "n_state=len(state)\n",
    "print np.shape(occ_data)\n",
    "diff=occ_data*np.ones((1,n_state))-np.ones((n_data,1))*state\n",
    "diff=np.abs(diff)\n",
    "print diff.shape\n",
    "print diff[1:10]"
   ]
  },
  {
   "cell_type": "markdown",
   "metadata": {},
   "source": [
    "Assign real occupancy level to a single state and build occupancy state matrix"
   ]
  },
  {
   "cell_type": "code",
   "execution_count": null,
   "metadata": {
    "collapsed": false
   },
   "outputs": [],
   "source": [
    "occ_mtx=np.zeros((n_data,n_state))\n",
    "ind=np.argmin(diff,1)\n",
    "for i in range(occ_data.shape[0]):\n",
    "    occ_mtx[i,ind[i]]=1\n",
    "print occ_mtx.shape"
   ]
  },
  {
   "cell_type": "code",
   "execution_count": null,
   "metadata": {
    "collapsed": false
   },
   "outputs": [],
   "source": [
    "occ_state=occ_mtx*state\n",
    "occ_state=np.sum(occ_state,1)\n",
    "print np.shape(occ_state)\n",
    "sample_week_state=occ_state[:len(sample_week)]\n",
    "plt.figure(figsize=(15,5))\n",
    "plt.plot(sample_week['timestamp'],sample_week['occ'],'b',label='occupancy')\n",
    "plt.plot(sample_week['timestamp'],sample_week_state,'r',label='occupancy state')\n",
    "plt.xlabel('Time Stamp')\n",
    "plt.ylabel('Occupancy')\n",
    "plt.title('GHC Occupancy of Sample Week')\n",
    "plt.ylim(0,1)\n",
    "plt.legend()"
   ]
  },
  {
   "cell_type": "markdown",
   "metadata": {},
   "source": [
    "##### Reshape the occupancy matrix (# time_indicator, # state, # week)"
   ]
  },
  {
   "cell_type": "markdown",
   "metadata": {},
   "source": [
    "Check if there is missing data in certain week"
   ]
  },
  {
   "cell_type": "code",
   "execution_count": null,
   "metadata": {
    "collapsed": false
   },
   "outputs": [],
   "source": [
    "for i in range(1,len(week_start)):\n",
    "    if (week_start[i]-week_start[i-1])!=5*len(sample_day):\n",
    "        print i-1,week_start[i]-week_start[i-1]"
   ]
  },
  {
   "cell_type": "markdown",
   "metadata": {},
   "source": [
    "The 25th week only has 384 sample, thus we need to discard this week."
   ]
  },
  {
   "cell_type": "code",
   "execution_count": null,
   "metadata": {
    "collapsed": false
   },
   "outputs": [],
   "source": [
    "crop=range(week_start[25],week_start[26])\n",
    "print len(crop)\n",
    "occ_mtx=np.delete(occ_mtx,crop,0)\n",
    "occ_crop_new=np.delete(occ_crop,crop,0)\n",
    "print np.shape(occ_mtx)\n",
    "print np.shape(occ_crop_new)"
   ]
  },
  {
   "cell_type": "markdown",
   "metadata": {},
   "source": [
    "Now reshape the occupancy matrix "
   ]
  },
  {
   "cell_type": "code",
   "execution_count": null,
   "metadata": {
    "collapsed": false
   },
   "outputs": [],
   "source": [
    "n_day=(len(week_start)-1)*5\n",
    "print n_day\n",
    "occ_mtx=np.reshape(occ_mtx,(n_day,len(sample_day),n_state))\n",
    "print occ_mtx.shape"
   ]
  },
  {
   "cell_type": "markdown",
   "metadata": {},
   "source": [
    "Test the occupancy matrix is reshaped correctly"
   ]
  },
  {
   "cell_type": "code",
   "execution_count": null,
   "metadata": {
    "collapsed": false
   },
   "outputs": [],
   "source": [
    "test_mtx=occ_mtx[0,:,:]\n",
    "test_mtx=test_mtx*state\n",
    "test_mtx=np.sum(test_mtx,1)\n",
    "plt.figure(figsize=(15,5))\n",
    "plt.plot(sample_day['timestamp'],sample_day['occ'],'b',label='occupancy')\n",
    "plt.plot(sample_day['timestamp'],test_mtx,'r',label='occupancy state')\n",
    "plt.xlabel('Time Stamp')\n",
    "plt.ylabel('Occupancy')\n",
    "plt.title('GHC Occupancy of Sample Week')\n",
    "plt.ylim(0,1)\n",
    "plt.legend()"
   ]
  },
  {
   "cell_type": "markdown",
   "metadata": {},
   "source": [
    "#### 5.2 Define Transition Matrices"
   ]
  },
  {
   "cell_type": "markdown",
   "metadata": {},
   "source": [
    "##### Initiate transition matrices (# state, # state, # time_indicator)"
   ]
  },
  {
   "cell_type": "code",
   "execution_count": null,
   "metadata": {
    "collapsed": false
   },
   "outputs": [],
   "source": [
    "n_t=len(sample_day)\n",
    "print n_t\n",
    "tran_mtx=np.zeros((n_state*n_t,n_state))\n",
    "tran_mtx=np.reshape(tran_mtx,(n_state,n_state,n_t))\n",
    "print tran_mtx.shape"
   ]
  },
  {
   "cell_type": "markdown",
   "metadata": {},
   "source": [
    "##### Calculate parameters of each transition matrix"
   ]
  },
  {
   "cell_type": "code",
   "execution_count": null,
   "metadata": {
    "collapsed": false
   },
   "outputs": [],
   "source": [
    "def T(occ_pre,occ_pri):\n",
    "    n_state=occ_pre.shape[1]\n",
    "    tran_mtx=np.zeros((n_state,n_state))\n",
    "    for i in range(n_state):\n",
    "        for j in range(n_state):\n",
    "            ind_pri=np.where(occ_pri[:,i]==1)\n",
    "            if len(ind_pri[0])==0:\n",
    "                tran_mtx[i,j]=0\n",
    "            else: \n",
    "                pri_pre=occ_pre[ind_pri[0]]\n",
    "                ind_pre=np.where(pri_pre[:,j]==1)\n",
    "                prob=len(ind_pre[0])/float(len(ind_pri[0]))\n",
    "                tran_mtx[i,j]=prob\n",
    "    return tran_mtx    "
   ]
  },
  {
   "cell_type": "markdown",
   "metadata": {},
   "source": [
    "Test T function"
   ]
  },
  {
   "cell_type": "code",
   "execution_count": null,
   "metadata": {
    "collapsed": false
   },
   "outputs": [],
   "source": [
    "occ_pre=np.reshape(occ_mtx[:,1,:],(n_day,n_state))\n",
    "occ_pri=np.reshape(occ_mtx[:,0,:],(n_day,n_state))\n",
    "#print occ_pre\n",
    "#print occ_pri\n",
    "print T(occ_pre,occ_pri)"
   ]
  },
  {
   "cell_type": "markdown",
   "metadata": {},
   "source": [
    "Calculate transition matrices of each time interval"
   ]
  },
  {
   "cell_type": "code",
   "execution_count": null,
   "metadata": {
    "collapsed": false
   },
   "outputs": [],
   "source": [
    "for i in range(n_t-1):\n",
    "    occ_pre=np.reshape(occ_mtx[:,i+1,:],(n_day,n_state))\n",
    "    occ_pri=np.reshape(occ_mtx[:,i,:],(n_day,n_state)) \n",
    "    tran_mtx[:,:,i]=T(occ_pre,occ_pri) "
   ]
  },
  {
   "cell_type": "code",
   "execution_count": null,
   "metadata": {
    "collapsed": false
   },
   "outputs": [],
   "source": [
    "print tran_mtx.shape\n",
    "print tran_mtx[:,:,0]"
   ]
  },
  {
   "cell_type": "markdown",
   "metadata": {},
   "source": [
    "Print one transition matrix "
   ]
  },
  {
   "cell_type": "code",
   "execution_count": null,
   "metadata": {
    "collapsed": false
   },
   "outputs": [],
   "source": [
    "print \"Transition matrix of %d:%d\"%(sample_day['timestamp'][40].hour,sample_day['timestamp'][40].minute)\n",
    "print tran_mtx[:,:,40]"
   ]
  },
  {
   "cell_type": "markdown",
   "metadata": {},
   "source": [
    "Plot transition probability from 0.1 to 0.3 and from 0.8 to 0.5"
   ]
  },
  {
   "cell_type": "code",
   "execution_count": null,
   "metadata": {
    "collapsed": false
   },
   "outputs": [],
   "source": [
    "prob_1=tran_mtx[0,1,:]\n",
    "prob_2=tran_mtx[3,2,:]\n",
    "print np.shape(prob_1)"
   ]
  },
  {
   "cell_type": "code",
   "execution_count": null,
   "metadata": {
    "collapsed": false
   },
   "outputs": [],
   "source": [
    "plt.figure(figsize=(15,5))\n",
    "plt.plot(sample_day['timestamp'],prob_1,'b',label='prob 0.1 to 0.3')\n",
    "plt.plot(sample_day['timestamp'],prob_2,'r',label='prob 0.8 to 0.6')\n",
    "plt.xlabel('Time Stamp')\n",
    "plt.ylabel('Probability')\n",
    "plt.title('Transition Probability')\n",
    "plt.ylim(0,1)\n",
    "plt.legend()"
   ]
  },
  {
   "cell_type": "markdown",
   "metadata": {},
   "source": [
    "As is showen in the figure, the occupancy is very likely to increase around 9am, and to decrease around 12pm, 5pm and 9pm, which correctly reponds to the daily schedule"
   ]
  },
  {
   "cell_type": "markdown",
   "metadata": {},
   "source": [
    "#### 5.3 Blended Transition Matrices"
   ]
  },
  {
   "cell_type": "markdown",
   "metadata": {},
   "source": [
    "##### Mix of transition matrices"
   ]
  },
  {
   "cell_type": "code",
   "execution_count": null,
   "metadata": {
    "collapsed": true
   },
   "outputs": [],
   "source": [
    "def T_mix(tran_mtx):\n",
    "    n_state=tran_mtx.shape[0]\n",
    "    n_t=tran_mtx.shape[2]    \n",
    "    tran_mix=np.zeros((n_state,n_state,n_t))\n",
    "    for i in range(n_t):  \n",
    "        mtx=np.zeros((n_state,n_state))\n",
    "        for j in range(n_t):\n",
    "            b=beta(i,j,n_t)\n",
    "            mtx=mtx+b*tran_mtx[:,:,j]\n",
    "        tran_mix[:,:,i]=mtx\n",
    "    return tran_mix"
   ]
  },
  {
   "cell_type": "code",
   "execution_count": null,
   "metadata": {
    "collapsed": false
   },
   "outputs": [],
   "source": [
    "test_mix=T_mix(tran_mtx[:,:,:2])\n",
    "print np.shape(test_mix)\n",
    "print test_mix[:,:,0]"
   ]
  },
  {
   "cell_type": "markdown",
   "metadata": {},
   "source": [
    "##### Weight of each transition matrix"
   ]
  },
  {
   "cell_type": "code",
   "execution_count": null,
   "metadata": {
    "collapsed": true
   },
   "outputs": [],
   "source": [
    "def beta(c1,c2,K):\n",
    "    a=np.zeros(K)\n",
    "    for i in range(K):\n",
    "        a[i]=alpha(c1-i)\n",
    "    return a[c2]/sum(a)        "
   ]
  },
  {
   "cell_type": "markdown",
   "metadata": {},
   "source": [
    "##### Value of each time slot"
   ]
  },
  {
   "cell_type": "code",
   "execution_count": null,
   "metadata": {
    "collapsed": true
   },
   "outputs": [],
   "source": [
    "def alpha(x):\n",
    "    a=10.0\n",
    "    d=3.0\n",
    "    theta1=theta(2*a/d*(x+d/2))\n",
    "    theta2=theta(2*a/d*(x-d/2))\n",
    "    return theta1-theta2"
   ]
  },
  {
   "cell_type": "markdown",
   "metadata": {},
   "source": [
    "##### Sigmoid function"
   ]
  },
  {
   "cell_type": "code",
   "execution_count": null,
   "metadata": {
    "collapsed": true
   },
   "outputs": [],
   "source": [
    "def theta(x):\n",
    "    return 1/(1+np.exp(-x))"
   ]
  },
  {
   "cell_type": "markdown",
   "metadata": {},
   "source": [
    "Calculate blended transition matrices"
   ]
  },
  {
   "cell_type": "code",
   "execution_count": null,
   "metadata": {
    "collapsed": false
   },
   "outputs": [],
   "source": [
    "tran_blend=T_mix(tran_mtx)\n",
    "print np.shape(tran_blend)"
   ]
  },
  {
   "cell_type": "markdown",
   "metadata": {},
   "source": [
    "Plot increase and decrease transition probabilities again"
   ]
  },
  {
   "cell_type": "code",
   "execution_count": null,
   "metadata": {
    "collapsed": false
   },
   "outputs": [],
   "source": [
    "prob_1=tran_blend[0,1,:]\n",
    "prob_2=tran_blend[1,2,:]\n",
    "prob_3=tran_blend[2,3,:]\n",
    "prob_4=tran_blend[1,0,:]\n",
    "prob_5=tran_blend[2,1,:]\n",
    "prob_6=tran_blend[3,2,:]\n",
    "print np.shape(prob_1)"
   ]
  },
  {
   "cell_type": "code",
   "execution_count": null,
   "metadata": {
    "collapsed": false,
    "scrolled": true
   },
   "outputs": [],
   "source": [
    "plt.figure(figsize=(15,5))\n",
    "plt.plot(sample_day['timestamp'],prob_1,'b',label='prob 0.1 to 0.3')\n",
    "plt.plot(sample_day['timestamp'],prob_2,'r',label='prob 0.3 to 0.6')\n",
    "plt.plot(sample_day['timestamp'],prob_3,'y',label='prob 0.6 to 0.8')\n",
    "plt.plot(sample_day['timestamp'],prob_4,'g',label='prob 0.3 to 0.1')\n",
    "plt.plot(sample_day['timestamp'],prob_4,'c',label='prob 0.6 to 0.3')\n",
    "plt.plot(sample_day['timestamp'],prob_4,'m',label='prob 0.8 to 0.6')\n",
    "plt.xlabel('Time Stamp')\n",
    "plt.ylabel('Probability')\n",
    "plt.title('Blended Transition Probability')\n",
    "plt.ylim(0,1)\n",
    "plt.legend()"
   ]
  },
  {
   "cell_type": "markdown",
   "metadata": {},
   "source": [
    "### 6. Occupancy Pattern Simulation"
   ]
  },
  {
   "cell_type": "markdown",
   "metadata": {},
   "source": [
    "#### 6.1 Simulate Occupancy"
   ]
  },
  {
   "cell_type": "code",
   "execution_count": null,
   "metadata": {
    "collapsed": true
   },
   "outputs": [],
   "source": [
    "def occSim(n_state,n_day,tran_mix):    \n",
    "    #init occ_sim=[# time indicator, # state, # week]\n",
    "    n_t=tran_mix.shape[2]\n",
    "    occ_sim=np.zeros((n_day,n_t,n_state))\n",
    "    #init occ state\n",
    "    for i in range(n_day):  \n",
    "        occ_pri=0\n",
    "        occ_sim[i,0,occ_pri]=1\n",
    "        for j in range(1,n_t):\n",
    "            occ_pre=markovSim(tran_mix[occ_pri,:,j],n_state)\n",
    "            occ_sim[i,j,occ_pre]=1\n",
    "            occ_pri=occ_pre\n",
    "    return occ_sim"
   ]
  },
  {
   "cell_type": "code",
   "execution_count": null,
   "metadata": {
    "collapsed": true
   },
   "outputs": [],
   "source": [
    "def markovSim(pdf,n):\n",
    "    cdf=np.zeros(n)\n",
    "    cdf[0]=pdf[0]\n",
    "    for i in range(1,n):\n",
    "        cdf[i]=cdf[i-1]+pdf[i]\n",
    "    r=np.random.random()\n",
    "    for j in range(n):\n",
    "        if r<cdf[j]:\n",
    "            break\n",
    "    return j"
   ]
  },
  {
   "cell_type": "markdown",
   "metadata": {},
   "source": [
    "Test markovSim function"
   ]
  },
  {
   "cell_type": "code",
   "execution_count": null,
   "metadata": {
    "collapsed": false
   },
   "outputs": [],
   "source": [
    "pdf=tran_blend[:,:,30][0,:]\n",
    "print pdf\n",
    "print markovSim(pdf,4)"
   ]
  },
  {
   "cell_type": "markdown",
   "metadata": {},
   "source": [
    "Test occSim function"
   ]
  },
  {
   "cell_type": "code",
   "execution_count": null,
   "metadata": {
    "collapsed": false
   },
   "outputs": [],
   "source": [
    "test_sim=occSim(4,1,tran_blend)\n",
    "print np.shape(test_sim)"
   ]
  },
  {
   "cell_type": "code",
   "execution_count": null,
   "metadata": {
    "collapsed": false
   },
   "outputs": [],
   "source": [
    "test_sim=np.sum(test_sim[0,:,:]*state,1)\n",
    "plt.figure(figsize=(15,5))\n",
    "plt.plot(sample_day['timestamp'],sample_day['occ'],'b',label='occupancy')\n",
    "plt.plot(sample_day['timestamp'],test_sim,'r',label='simulation')\n",
    "plt.xlabel('Time Stamp')\n",
    "plt.ylabel('Occupancy')\n",
    "plt.title('Test Occupancy Simulation')\n",
    "plt.ylim(0,1)\n",
    "plt.legend()"
   ]
  },
  {
   "cell_type": "markdown",
   "metadata": {},
   "source": [
    "Simulate occupancy"
   ]
  },
  {
   "cell_type": "code",
   "execution_count": null,
   "metadata": {
    "collapsed": false
   },
   "outputs": [],
   "source": [
    "N=100\n",
    "occ_0=0 #first state\n",
    "occ_sim=np.zeros((n_t*n_day,n_state))\n",
    "for i in range(N):\n",
    "    sim=occSim(n_state,n_day,tran_blend)    \n",
    "    sim=np.reshape(sim,(n_t*n_day,n_state))\n",
    "    occ_sim=occ_sim+sim    \n"
   ]
  },
  {
   "cell_type": "markdown",
   "metadata": {},
   "source": [
    "Pring the first day occupancy simulation result"
   ]
  },
  {
   "cell_type": "code",
   "execution_count": null,
   "metadata": {
    "collapsed": false
   },
   "outputs": [],
   "source": [
    "print occ_sim[:96]"
   ]
  },
  {
   "cell_type": "markdown",
   "metadata": {},
   "source": [
    "Calculate the simulated occupancy level"
   ]
  },
  {
   "cell_type": "code",
   "execution_count": null,
   "metadata": {
    "collapsed": true
   },
   "outputs": [],
   "source": [
    "occ_sim=occ_sim*1.0/N\n",
    "occ_sim=np.sum(occ_sim*state,1)"
   ]
  },
  {
   "cell_type": "markdown",
   "metadata": {},
   "source": [
    "#### 6.2 Compare Simulated Occupancy with Ground Truth"
   ]
  },
  {
   "cell_type": "code",
   "execution_count": null,
   "metadata": {
    "collapsed": false
   },
   "outputs": [],
   "source": [
    "sample_week_sim=occ_sim[:len(sample_week)]\n",
    "plt.figure(figsize=(15,5))\n",
    "plt.plot(sample_week['timestamp'],sample_week['occ'],'b',label='occupancy')\n",
    "plt.plot(sample_week['timestamp'],sample_week_sim,'r',label='simulation')\n",
    "plt.xlabel('Time Stamp')\n",
    "plt.ylabel('Occupancy')\n",
    "plt.title('Simulated Occupancy of Sample Week')\n",
    "plt.ylim(0,1)\n",
    "plt.legend()"
   ]
  },
  {
   "cell_type": "markdown",
   "metadata": {},
   "source": [
    "As is shown in the figure, the simulated occupancy perferctly matches the real occupancy. Therefore, we replace the real occupancy with the simulation result in the energy prediction model in the next section. To do this, we need to crop the occupancy to match the energy data."
   ]
  },
  {
   "cell_type": "markdown",
   "metadata": {},
   "source": [
    "#### 6.3 Crop Simulated Occupancy"
   ]
  },
  {
   "cell_type": "markdown",
   "metadata": {},
   "source": [
    "The energy data used in this study has 4 time period: Jan 12 to Apr 3, Apr 20 to May 15, Jun 22 to Jul 17, and Sep 28 to Dec 4. The time series of occupancy basically overlp with them, while we still need to cut off some data. Simply, we only need to shorten the occupancy time series."
   ]
  },
  {
   "cell_type": "code",
   "execution_count": null,
   "metadata": {
    "collapsed": false
   },
   "outputs": [],
   "source": [
    "print np.where(occ_crop_new['timestamp']==dt.datetime(2015,1,12))\n",
    "print np.where(occ_crop_new['timestamp']==dt.datetime(2015,10,26))"
   ]
  },
  {
   "cell_type": "code",
   "execution_count": null,
   "metadata": {
    "collapsed": false
   },
   "outputs": [],
   "source": [
    "occ_sim_crop=np.ndarray(shape=(13920-2880),\n",
    "    dtype=[('timestamp',dt.datetime),('occ',float)])\n",
    "occ_sim_crop['timestamp']=occ_crop_new['timestamp'][2880:13920]\n",
    "occ_sim_crop['occ']=occ_sim[2880:13920]"
   ]
  },
  {
   "cell_type": "code",
   "execution_count": null,
   "metadata": {
    "collapsed": false
   },
   "outputs": [],
   "source": [
    "print np.shape(occ_sim_crop)"
   ]
  },
  {
   "cell_type": "code",
   "execution_count": null,
   "metadata": {
    "collapsed": false,
    "scrolled": true
   },
   "outputs": [],
   "source": [
    "plt.plot(occ_sim_crop['timestamp'])"
   ]
  },
  {
   "cell_type": "markdown",
   "metadata": {},
   "source": [
    "Also, remember we have cropped a week data."
   ]
  },
  {
   "cell_type": "code",
   "execution_count": null,
   "metadata": {
    "collapsed": false
   },
   "outputs": [],
   "source": [
    "crop_week=occ_crop[week_start[25]:week_start[26]]\n",
    "print np.shape(crop_week)\n",
    "print 'The week cropped is from ',crop_week['timestamp'][0],' to ',crop_week['timestamp'][-1]"
   ]
  },
  {
   "cell_type": "code",
   "execution_count": null,
   "metadata": {
    "collapsed": false
   },
   "outputs": [],
   "source": [
    "plt.figure(figsize=(15,5))\n",
    "plt.plot(occ_crop_new['occ'][2880:13920][1000:2000],'b',label='occupancy')\n",
    "plt.plot(occ_sim_crop['occ'][1000:2000],'r',label='simulation')\n",
    "plt.xlabel('Day')\n",
    "plt.ylabel('Occupancy')\n",
    "plt.title('Comparison of Real and Simulated Occupancy')\n",
    "plt.ylim(0,1)\n",
    "plt.legend()"
   ]
  },
  {
   "cell_type": "markdown",
   "metadata": {},
   "source": [
    "### 7. Energy Prediction Model with Occupancy"
   ]
  },
  {
   "cell_type": "markdown",
   "metadata": {},
   "source": [
    "#### 7.1 Harmonize Energy and Occupancy Data"
   ]
  },
  {
   "cell_type": "code",
   "execution_count": null,
   "metadata": {
    "collapsed": true
   },
   "outputs": [],
   "source": [
    "new_temp2 = temp[0:10560]\n",
    "new_elect2 = elect[0:10560] \n",
    "new_occup = occ_sim_crop['occ'][0:10560]\n",
    "new_tstamp = tstamp[0:10560]\n",
    "\n",
    "train_temp2 = []\n",
    "test_temp2 = []\n",
    "for i in range(11):\n",
    "    train_temp2.extend(new_temp2[960*i:960*i+480])\n",
    "    test_temp2.extend(new_temp2[960*i+480:960*i+960])\n",
    "\n",
    "train_elect2 = []\n",
    "test_elect2 = []\n",
    "for i in range(11):\n",
    "    train_elect2.extend(new_elect2[960*i:960*i+480])\n",
    "    test_elect2.extend(new_elect2[960*i+480:960*i+960])\n",
    "\n",
    "train_occup = []\n",
    "test_occup = []\n",
    "for i in range(11):\n",
    "    train_occup.extend(new_occup[960*i:960*i+480])\n",
    "    test_occup.extend(new_occup[960*i+480:960*i+960])\n",
    "\n",
    "train_tstamp2 = []\n",
    "test_tstamp2 = []\n",
    "for i in range(11):\n",
    "    train_tstamp2.extend(new_tstamp[960*i:960*i+480])\n",
    "    test_tstamp2.extend(new_tstamp[960*i+480:960*i+960])\n",
    "\n",
    "train_occup2 = (np.matrix(train_occup)).T\n",
    "test_occup2 = (np.matrix(test_occup)).T"
   ]
  },
  {
   "cell_type": "markdown",
   "metadata": {},
   "source": [
    "#### 7.2 Fit Building Energy Model with Real Occupancy"
   ]
  },
  {
   "cell_type": "code",
   "execution_count": null,
   "metadata": {
    "collapsed": false
   },
   "outputs": [],
   "source": [
    "occup2 = occ_crop_new['occ'][2880:13920]\n",
    "new_occup2 = occup2[0:10560]\n",
    "\n",
    "train_occup2 = []\n",
    "test_occup2 = []\n",
    "for i in range(11):\n",
    "    train_occup2.extend(new_occup2[960*i:960*i+480])\n",
    "    test_occup2.extend(new_occup2[960*i+480:960*i+960])\n",
    "\n",
    "train_occup3 = (np.matrix(train_occup2)).T\n",
    "test_occup3 = (np.matrix(test_occup2)).T\n",
    "\n",
    "train_X3 = DesignMatrix2(train_temp2, 480, train_T_bound, train_occup3)\n",
    "train_elect_trans2 = (np.matrix(train_elect2)).T\n",
    "betahat3 = beta_hat(train_X3, train_elect_trans2)\n",
    "test_X3 = DesignMatrix2(test_temp2, 480, test_T_bound, test_occup3)\n",
    "predict_y3 = test_X3 * betahat3"
   ]
  },
  {
   "cell_type": "code",
   "execution_count": null,
   "metadata": {
    "collapsed": true
   },
   "outputs": [],
   "source": [
    "plt.figure(figsize=(15,5))\n",
    "plt.plot(predict_y3[1000:2000], 'r-', label = \"Predicted\")\n",
    "plt.plot(test_elect2[1000:2000], 'b-', label = \"Actual\")\n",
    "plt.ylim(100,200)\n",
    "plt.xlabel(\"Time\",size=15)\n",
    "plt.ylabel(\"Electricity [kWh]\",size=15)\n",
    "plt.legend(loc=\"upper left\")"
   ]
  },
  {
   "cell_type": "code",
   "execution_count": null,
   "metadata": {
    "collapsed": true
   },
   "outputs": [],
   "source": [
    "X3 = test_X3\n",
    "Y3 = np.matrix(test_elect2).T\n",
    "y_bar3 = np.matrix([[np.mean(Y3)]*len(Y3)]).T\n",
    "R_squared3 = 1-((Y3-X3*betahat3).T*(Y3-X3*betahat3))/((Y3-y_bar3).T*(Y3-y_bar3))\n",
    "R_squared3[0,0]"
   ]
  },
  {
   "cell_type": "code",
   "execution_count": null,
   "metadata": {
    "collapsed": true
   },
   "outputs": [],
   "source": [
    "MSE3 = (Y3-X3*betahat3).T*(Y3-X3*betahat3)/(n2-p2)\n",
    "S_betahat_sqr3 = np.multiply(MSE3, linalg.inv(X3.T*X3))\n",
    "S_betahatk_sqr3 = S_betahat_sqr3.diagonal()\n",
    "S_betahatk3 = np.sqrt(S_betahatk_sqr3.T)\n",
    "left3 = np.array(betahat3 - t.isf((1-0.95)/2, n2-p2)*S_betahatk3)\n",
    "right3 = np.array(betahat3 + t.isf((1-0.95)/2, n2-p2)*S_betahatk3)\n",
    "CI3 = []\n",
    "for i in range(487):\n",
    "    CI3.append((left3[i][0], right3[i][0]))\n",
    "CI3"
   ]
  },
  {
   "cell_type": "code",
   "execution_count": null,
   "metadata": {
    "collapsed": true
   },
   "outputs": [],
   "source": [
    "T3 = []\n",
    "for i in range(487):\n",
    "    T3.append(np.array(betahat3[i,:])[0][0]/np.array(S_betahatk3[i,:])[0][0])\n",
    "\n",
    "def rej_coef3(T):\n",
    "    rej_list = []\n",
    "    for i in range(len(T)):\n",
    "        if T[i] > t.isf((1-0.95)/2,n2-p2) or T[i] < -t.isf((1-0.95)/2,n2-p2):\n",
    "            rej_list.append(T[i])\n",
    "        else:\n",
    "            print(T[i],i)\n",
    "    return rej_list\n"
   ]
  },
  {
   "cell_type": "code",
   "execution_count": null,
   "metadata": {
    "collapsed": true
   },
   "outputs": [],
   "source": [
    "rej_coef3(T3)"
   ]
  },
  {
   "cell_type": "markdown",
   "metadata": {},
   "source": [
    "#### 7.3 Fit Building Energy Model with Simulated Occupancy"
   ]
  },
  {
   "cell_type": "code",
   "execution_count": null,
   "metadata": {
    "collapsed": true
   },
   "outputs": [],
   "source": [
    "train_X2 = DesignMatrix2(train_temp2, 480, train_T_bound, train_occup2)"
   ]
  },
  {
   "cell_type": "code",
   "execution_count": null,
   "metadata": {
    "collapsed": true
   },
   "outputs": [],
   "source": [
    "train_elect_trans2 = (np.matrix(train_elect2)).T\n",
    "betahat2 = beta_hat(train_X2, train_elect_trans2)"
   ]
  },
  {
   "cell_type": "code",
   "execution_count": null,
   "metadata": {
    "collapsed": true
   },
   "outputs": [],
   "source": [
    "test_X2 = DesignMatrix2(test_temp2, 480, test_T_bound, test_occup2)"
   ]
  },
  {
   "cell_type": "code",
   "execution_count": null,
   "metadata": {
    "collapsed": true
   },
   "outputs": [],
   "source": [
    "predict_y2 = test_X2 * betahat2"
   ]
  },
  {
   "cell_type": "code",
   "execution_count": null,
   "metadata": {
    "collapsed": false
   },
   "outputs": [],
   "source": [
    "plt.figure(figsize=(15,5))\n",
    "plt.plot(predict_y2[1000:2000], 'r-', label = \"Predicted\")\n",
    "plt.plot(test_elect2[1000:2000], 'b-', label = \"Actual\")\n",
    "plt.ylim(100,200)\n",
    "plt.xlabel(\"Time\",size=15)\n",
    "plt.ylabel(\"Electricity [kWh]\",size=15)\n",
    "plt.legend(loc=\"upper left\")"
   ]
  },
  {
   "cell_type": "markdown",
   "metadata": {},
   "source": [
    "##### T-test and R-square "
   ]
  },
  {
   "cell_type": "code",
   "execution_count": null,
   "metadata": {
    "collapsed": false
   },
   "outputs": [],
   "source": [
    "X2 = test_X2\n",
    "Y2 = np.matrix(test_elect2).T\n",
    "y_bar2 = np.matrix([[np.mean(Y2)]*len(Y2)]).T\n",
    "R_squared2 = 1-((Y2-X2*betahat2).T*(Y2-X2*betahat2))/((Y2-y_bar2).T*(Y2-y_bar2))\n",
    "R_squared2[0,0]"
   ]
  },
  {
   "cell_type": "code",
   "execution_count": null,
   "metadata": {
    "collapsed": false
   },
   "outputs": [],
   "source": [
    "n2 = 5280\n",
    "p2 = 487\n",
    "t.isf((1-0.95)/2,n2-p2)"
   ]
  },
  {
   "cell_type": "code",
   "execution_count": null,
   "metadata": {
    "collapsed": false
   },
   "outputs": [],
   "source": [
    "MSE2 = (Y2-X2*betahat2).T*(Y2-X2*betahat2)/(n2-p2)\n",
    "S_betahat_sqr2 = np.multiply(MSE2, np.linalg.inv(X2.T*X2))\n",
    "S_betahatk_sqr2 = S_betahat_sqr2.diagonal()\n",
    "S_betahatk2 = np.sqrt(S_betahatk_sqr2.T)"
   ]
  },
  {
   "cell_type": "code",
   "execution_count": null,
   "metadata": {
    "collapsed": true
   },
   "outputs": [],
   "source": [
    "T2 = []\n",
    "for i in range(487):\n",
    "    T2.append(np.array(betahat2[i,:])[0][0]/np.array(S_betahatk2[i,:])[0][0])"
   ]
  },
  {
   "cell_type": "code",
   "execution_count": null,
   "metadata": {
    "collapsed": true
   },
   "outputs": [],
   "source": [
    "def rej_coef2(T):\n",
    "    rej_list = []\n",
    "    for i in range(len(T)):\n",
    "        if T[i] > t.isf((1-0.95)/2,n2-p2) or T[i] < -t.isf((1-0.95)/2,n2-p2):\n",
    "            rej_list.append(T[i])\n",
    "        else:\n",
    "            print(T[i],i)\n",
    "    return rej_list"
   ]
  },
  {
   "cell_type": "code",
   "execution_count": null,
   "metadata": {
    "collapsed": false
   },
   "outputs": [],
   "source": [
    "len(rej_coef2(T2))"
   ]
  },
  {
   "cell_type": "markdown",
   "metadata": {},
   "source": [
    "Unfortunately, occupancy variale is rejected"
   ]
  },
  {
   "cell_type": "markdown",
   "metadata": {},
   "source": [
    "#### 7.5 Relationship between Occupancy and Energy Consumption"
   ]
  },
  {
   "cell_type": "code",
   "execution_count": null,
   "metadata": {
    "collapsed": false
   },
   "outputs": [],
   "source": [
    "fig, ax1 = plt.subplots(figsize=(15,5))\n",
    "\n",
    "ax2 = ax1.twinx()\n",
    "ax2.plot(new_tstamp[1000:2000],new_occup[1000:2000], 'r-',label = 'Occupany')\n",
    "ax1.plot(new_tstamp[1000:2000],new_elect2[1000:2000], 'b-',label = 'Electricity')\n",
    "\n",
    "ax1.set_xlabel('Time')\n",
    "ax1.set_ylabel('Electricity [kWh]')\n",
    "ax2.set_ylabel('Occupancy')\n",
    "ax1.legend()\n",
    "ax2.legend(loc=\"upper left\")\n",
    "plt.title('Building Eletricity Consumption vs Occupancy')\n",
    "\n",
    "plt.show()"
   ]
  },
  {
   "cell_type": "markdown",
   "metadata": {},
   "source": [
    "As is shown in the figure, occupancy and energy use are correlated."
   ]
  },
  {
   "cell_type": "code",
   "execution_count": null,
   "metadata": {
    "collapsed": true
   },
   "outputs": [],
   "source": []
  }
 ],
 "metadata": {
  "kernelspec": {
   "display_name": "Python 2",
   "language": "python",
   "name": "python2"
  },
  "language_info": {
   "codemirror_mode": {
    "name": "ipython",
    "version": 2
   },
   "file_extension": ".py",
   "mimetype": "text/x-python",
   "name": "python",
   "nbconvert_exporter": "python",
   "pygments_lexer": "ipython2",
   "version": "2.7.10"
  }
 },
 "nbformat": 4,
 "nbformat_minor": 0
}
