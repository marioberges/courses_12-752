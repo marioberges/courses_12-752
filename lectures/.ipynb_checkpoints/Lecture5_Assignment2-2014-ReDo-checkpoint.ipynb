{
 "cells": [
  {
   "cell_type": "markdown",
   "metadata": {},
   "source": [
    "# Assignment #2 from 2014 - ReDo"
   ]
  },
  {
   "cell_type": "markdown",
   "metadata": {},
   "source": [
    "This is an attempt to complete the tasks laid out on Assignment #2 from this class in 2014.\n",
    "\n",
    "We begin by importing all of the libraries that are necessary, and setting up the plotting environment:"
   ]
  },
  {
   "cell_type": "code",
   "execution_count": 4,
   "metadata": {
    "collapsed": false
   },
   "outputs": [],
   "source": [
    "import numpy as np\n",
    "import matplotlib.pyplot as plt\n",
    "import datetime as dt\n",
    "\n",
    "%matplotlib inline"
   ]
  },
  {
   "cell_type": "markdown",
   "metadata": {},
   "source": [
    "# Task #1"
   ]
  },
  {
   "cell_type": "markdown",
   "metadata": {},
   "source": [
    "Then, for this first task, we import the csv file into variable called *data*. We leverage a new lambda function that will allow the importer to convert the timestamp strings into datetime objects:"
   ]
  },
  {
   "cell_type": "code",
   "execution_count": 101,
   "metadata": {
    "collapsed": false
   },
   "outputs": [],
   "source": [
    "anewdate = '2014/11/10 17:34:28'\n",
    "\n",
    "dateConverter = lambda d : dt.datetime.strptime(d,'%Y/%m/%d %H:%M:%S')\n",
    "\n",
    "data = np.genfromtxt('../../../data/campusDemand.csv',delimiter=\",\",names=True,dtype=('a255',type(dt),float,),converters={1: dateConverter})"
   ]
  },
  {
   "cell_type": "code",
   "execution_count": 42,
   "metadata": {
    "collapsed": false
   },
   "outputs": [
    {
     "data": {
      "text/plain": [
       "('Porter Hall Electric (Shark 30) - Watts', datetime.datetime(2014, 9, 10, 0, 0, 50), 80635.421875)"
      ]
     },
     "execution_count": 42,
     "metadata": {},
     "output_type": "execute_result"
    }
   ],
   "source": [
    "data[0]"
   ]
  },
  {
   "cell_type": "code",
   "execution_count": 53,
   "metadata": {
    "collapsed": true
   },
   "outputs": [
    {
     "data": {
      "text/plain": [
       "array(['Porter Hall Electric (Shark 30) - Watts',\n",
       "       'Porter Hall Electric (Shark 30) - Watts',\n",
       "       'Porter Hall Electric (Shark 30) - Watts', ...,\n",
       "       'Baker Hall Electric (Shark 29) - Demand Watts ',\n",
       "       'Baker Hall Electric (Shark 29) - Demand Watts ',\n",
       "       'Baker Hall Electric (Shark 29) - Demand Watts '], \n",
       "      dtype='|S255')"
      ]
     },
     "execution_count": 53,
     "metadata": {},
     "output_type": "execute_result"
    }
   ],
   "source": [
    "data['Point_name']"
   ]
  },
  {
   "cell_type": "markdown",
   "metadata": {},
   "source": [
    "To make sure that the import succeeded, we print the contents of the variable. Also, because we wan't to make sure the full meter names appear in the printed output, we modify Numpy's printoptions by using the method *[np.set_printoptions](http://docs.scipy.org/doc/numpy/reference/generated/numpy.set_printoptions.html)*:"
   ]
  },
  {
   "cell_type": "code",
   "execution_count": 58,
   "metadata": {
    "collapsed": false
   },
   "outputs": [],
   "source": [
    "np.set_printoptions(threshold=8) # make sure all the power meter names will be printed\n"
   ]
  },
  {
   "cell_type": "markdown",
   "metadata": {},
   "source": [
    "# Task #2"
   ]
  },
  {
   "cell_type": "markdown",
   "metadata": {},
   "source": [
    "To find the unique number of point names, we use the unique function from Numpy, and apply it to the 'Point_name' column in *data*:"
   ]
  },
  {
   "cell_type": "code",
   "execution_count": 59,
   "metadata": {
    "collapsed": false
   },
   "outputs": [
    {
     "name": "stdout",
     "output_type": "stream",
     "text": [
      "There are 7 unique meters.\n"
     ]
    }
   ],
   "source": [
    "pointNames = np.unique(data['Point_name'])\n",
    "print \"There are {} unique meters.\".format(pointNames.shape[0])"
   ]
  },
  {
   "cell_type": "markdown",
   "metadata": {},
   "source": [
    "# Task #3"
   ]
  },
  {
   "cell_type": "markdown",
   "metadata": {},
   "source": [
    "We now print the contents of the *pointNames* array:"
   ]
  },
  {
   "cell_type": "code",
   "execution_count": 60,
   "metadata": {
    "collapsed": false
   },
   "outputs": [
    {
     "name": "stdout",
     "output_type": "stream",
     "text": [
      "['Baker Hall Electric (Shark 29) - Demand Watts '\n",
      " 'Baker Hall Electric (Shark 29) - Watts'\n",
      " 'Doherty Apts Electric (Shark 11) - Demand Watts'\n",
      " 'Electric kW Calculations - Main Campus kW'\n",
      " 'Porter Hall Electric (Shark 30) - Watts'\n",
      " 'Scaife Hall Electric (Shark 21) - Watts'\n",
      " 'University Center Electric (Shark 34) - Watts']\n"
     ]
    }
   ],
   "source": [
    "print pointNames"
   ]
  },
  {
   "cell_type": "code",
   "execution_count": 92,
   "metadata": {
    "collapsed": false
   },
   "outputs": [
    {
     "data": {
      "text/plain": [
       "[<matplotlib.lines.Line2D at 0x119ca6f10>]"
      ]
     },
     "execution_count": 92,
     "metadata": {},
     "output_type": "execute_result"
    },
    {
     "data": {
      "image/png": "[encoded data removed]",
      "text/plain": [
       "<matplotlib.figure.Figure at 0x116694bd0>"
      ]
     },
     "metadata": {},
     "output_type": "display_data"
    }
   ],
   "source": [
    "#extractedData = np.extract(data['Point_name']==pointNames[6],data)\n",
    "plt.plot(data['Time'][np.where(data['Point_name']==pointNames[0])],'rd')"
   ]
  },
  {
   "cell_type": "markdown",
   "metadata": {},
   "source": [
    "# Task #4"
   ]
  },
  {
   "cell_type": "markdown",
   "metadata": {},
   "source": [
    "To count the numer of samples present on each power meter, there are many ways to achieve it. For instance, we can use an iterator to loop over all pointNames and create a list of tuples in the process (this is formally called a [List Comprehension](https://docs.python.org/2/tutorial/datastructures.html#list-comprehensions)). Every tuple will then contain two elements: the meter name, and the number of samples in it:"
   ]
  },
  {
   "cell_type": "code",
   "execution_count": null,
   "metadata": {
    "collapsed": false
   },
   "outputs": [],
   "source": []
  },
  {
   "cell_type": "markdown",
   "metadata": {},
   "source": [
    "# Task #5"
   ]
  },
  {
   "cell_type": "markdown",
   "metadata": {},
   "source": [
    "First, we can use another List Comprehension to iterate over the point names and create a new list whose elements are in turn tuples with the indeces for the samples corresponding to this meter:"
   ]
  },
  {
   "cell_type": "code",
   "execution_count": 87,
   "metadata": {
    "collapsed": false
   },
   "outputs": [
    {
     "name": "stdout",
     "output_type": "stream",
     "text": [
      "idx is now a <type 'list'> of 7 items.\n",
      "Each item in idx is of <type 'tuple'>.\n"
     ]
    },
    {
     "data": {
      "text/plain": [
       "[('Baker Hall Electric (Shark 29) - Demand Watts ', 271),\n",
       " ('Baker Hall Electric (Shark 29) - Watts', 7),\n",
       " ('Doherty Apts Electric (Shark 11) - Demand Watts', 31),\n",
       " ('Electric kW Calculations - Main Campus kW', 365),\n",
       " ('Porter Hall Electric (Shark 30) - Watts', 61),\n",
       " ('Scaife Hall Electric (Shark 21) - Watts', 31),\n",
       " ('University Center Electric (Shark 34) - Watts', 7)]"
      ]
     },
     "execution_count": 87,
     "metadata": {},
     "output_type": "execute_result"
    }
   ],
   "source": [
    "idx = [np.where(data['Point_name']==meter) for meter in pointNames]\n",
    "\n",
    "print \"idx is now a {0:s} of {1:d} items.\".format(type(idx),len(idx))\n",
    "print \"Each item in idx is of {0:s}.\".format(type(idx[0]))\n",
    "\n",
    "[(meter,(data[idxItem]['Time'][-1]-data[idxItem]['Time'][0]).days) for meter,idxItem in zip(pointNames,idx)]"
   ]
  },
  {
   "cell_type": "markdown",
   "metadata": {},
   "source": [
    "And then use yet another list comprehension to calculate the differences between the first and last timestamp:"
   ]
  },
  {
   "cell_type": "code",
   "execution_count": 76,
   "metadata": {
    "collapsed": false
   },
   "outputs": [
    {
     "name": "stdout",
     "output_type": "stream",
     "text": [
      "Help on built-in function zip in module __builtin__:\n",
      "\n",
      "zip(...)\n",
      "    zip(seq1 [, seq2 [...]]) -> [(seq1[0], seq2[0] ...), (...)]\n",
      "    \n",
      "    Return a list of tuples, where each tuple contains the i-th element\n",
      "    from each of the argument sequences.  The returned list is truncated\n",
      "    in length to the length of the shortest argument sequence.\n",
      "\n"
     ]
    }
   ],
   "source": [
    "help(zip)"
   ]
  },
  {
   "cell_type": "markdown",
   "metadata": {},
   "source": [
    "# Task #6"
   ]
  },
  {
   "cell_type": "markdown",
   "metadata": {},
   "source": [
    "For this task, we are going to directly take the difference between any two consecutive datetime objects and display the result in terms of, say, number of seconds elapsed between these timestamps. \n",
    "\n",
    "Before we do this, though, it is useful to plot the timestamps to figure out if there are discontinuities that we can visually see:"
   ]
  },
  {
   "cell_type": "code",
   "execution_count": null,
   "metadata": {
    "collapsed": false
   },
   "outputs": [],
   "source": [
    "fig = plt.figure(figsize=(20,30)) # A 20 inch x 20 inch figure box\n",
    "\n",
    "### What else?"
   ]
  },
  {
   "cell_type": "markdown",
   "metadata": {},
   "source": [
    "As you may have seen, gaps were easily identifiable as discontinuities in the lines that were plotted. If no gaps existed, the plot would be a straight line.\n",
    "\n",
    "But now let's get back to solving this using exact numbers...\n",
    "\n",
    "First, you need to know that applying the difference operator (-) on two datetime objects results in a [timedelta](https://docs.python.org/2/library/datetime.html#datetime.timedelta) object. These objects (timedelta) describe time differences in terms of number of days, seconds and microseconds (see the link above for more details). Because of this, we can quickly convert any timedelta object (say *dt*) into the number of seconds by doing:\n",
    "<pre>\n",
    "dt.days*3600*24+dt.seconds+dt.microseconds/1000000\n",
    "</pre>\n",
    "In this case, however, our timestamps do not contain information about the microseconds, so we will skip that part of the converstion.\n",
    "\n",
    "Using this knowledge, we can create a list of lists (a nested list) in a similar manner as we've done before (i.e. using list comprehensions), and in it store the timedeltas in seconds for each meter. In other words, the outer list is a list of the same length as pointNames, and each element is a list of timedeltas for the corresponding meter.\n",
    "\n",
    "One more thing comes in handy for this task: the np.diff function, which takes an array (or a list) and returns the difference between any two consecutive items of the list.\n",
    "\n",
    "Now, in a single line of code we can get the nested list we talked about:\n"
   ]
  },
  {
   "cell_type": "code",
   "execution_count": null,
   "metadata": {
    "collapsed": false
   },
   "outputs": [],
   "source": [
    "delta_t = "
   ]
  },
  {
   "cell_type": "markdown",
   "metadata": {},
   "source": [
    "Now we need to be able to print out the exact times during which there are gaps. We will define gaps to be any timedelta that is longer than the median timedelta for a meter.\n",
    "\n",
    "We will achieve this as follows: \n",
    "\n",
    "- first we will create a for loop to iterate over every item in the list delta_t (which means we will iterate over all meters).\n",
    "- then, inside the loop, we will calculate the median value for the delta_t that corresponds to each meter\n",
    "- following this, we will find the indeces of delta_t where its value is greater than the median\n",
    "- lastly, we will iterate over all the indeces found in the previous step and print out their values\n"
   ]
  },
  {
   "cell_type": "code",
   "execution_count": null,
   "metadata": {
    "collapsed": false
   },
   "outputs": [],
   "source": [
    "np.set_printoptions(threshold=np.nan)\n",
    "\n"
   ]
  },
  {
   "cell_type": "markdown",
   "metadata": {},
   "source": [
    "# Task #7"
   ]
  },
  {
   "cell_type": "markdown",
   "metadata": {},
   "source": [
    "First, we will define a new variable containing the weekday for each of the timestamps."
   ]
  },
  {
   "cell_type": "code",
   "execution_count": 102,
   "metadata": {
    "collapsed": false
   },
   "outputs": [],
   "source": [
    "wd = lambda d : d.weekday()\n",
    "weekDays = np.array(map(wd,data['Time']))\n",
    "\n",
    "Monday = data[np.where(weekDays==0)]\n",
    "Tuesday = data[np.where(weekDays==1)]\n",
    "Wednesday = data[np.where(weekDays==2)]\n",
    "Thursday = data[np.where(weekDays==3)]\n",
    "Friday = data[np.where(weekDays==4)]\n",
    "Saturday = data[np.where(weekDays==5)]\n",
    "Sunday = data[np.where(weekDays==6)]\n"
   ]
  },
  {
   "cell_type": "markdown",
   "metadata": {},
   "source": [
    "Then we can do logical indexing to segment the data:"
   ]
  },
  {
   "cell_type": "code",
   "execution_count": 107,
   "metadata": {
    "collapsed": false
   },
   "outputs": [
    {
     "data": {
      "text/plain": [
       "[<matplotlib.lines.Line2D at 0x12e189690>]"
      ]
     },
     "execution_count": 107,
     "metadata": {},
     "output_type": "execute_result"
    },
    {
     "data": {
      "image/png": "[encoded data removed]",
      "text/plain": [
       "<matplotlib.figure.Figure at 0x119ff72d0>"
      ]
     },
     "metadata": {},
     "output_type": "display_data"
    }
   ],
   "source": [
    "plt.plot(Sunday['Time'][np.where(Sunday['Point_name']==pointNames[0])],Sunday['Value'][np.where(Sunday['Point_name']==pointNames[0])],'rd')"
   ]
  },
  {
   "cell_type": "markdown",
   "metadata": {},
   "source": [
    "# Task #8"
   ]
  },
  {
   "cell_type": "markdown",
   "metadata": {},
   "source": [
    "In this task we basically use two for loops and a the subplot functionality of PyPlot to do visualize the data contained in the variables we declared above.\n",
    "\n",
    "The main trick is that we need to create a time index that only contains information about the hours, minutes and seconds (i.e. it completely disregards the exact day of the measurement) so that all of the measurements can be displayed within a single 24-hour period."
   ]
  },
  {
   "cell_type": "code",
   "execution_count": null,
   "metadata": {
    "collapsed": false
   },
   "outputs": [],
   "source": [
    "Days = ['Monday','Tuesday','Wednesday','Thursday','Friday','Saturday','Sunday']\n",
    "\n",
    "fig = plt.figure(figsize=(20,20))\n",
    "for i in range(len(pointNames)): # iterate over meters\n",
    "    for j in range(7): # iterate over days of the week\n",
    "        plt.subplot(7,7,i*7+j+1)\n",
    "        # Data from the day being plotted = All[j]\n",
    "        # Data from the meter being plotted = All[j][All[j]['Point_name']==pointNames[i]]\n",
    "        time = np.array([t.hour*3600+t.minute*60+t.second for t in All[j][All[j]['Point_name']==pointNames[i]]['Time']])\n",
    "        # plot the power vs the hours in a day\n",
    "        plt.plot(time/3600.,All[j][All[j]['Point_name']==pointNames[i]]['Value'],'.')\n",
    "        if i==6:\n",
    "            plt.xlabel('hours in a day')\n",
    "        if j==0: \n",
    "            plt.ylabel(pointNames[i].split('-')[0]+'\\n'+pointNames[i].split('-')[1])\n",
    "        if i==0:\n",
    "            plt.title(Days[j])\n",
    "fig.tight_layout()\n",
    "plt.show()"
   ]
  },
  {
   "cell_type": "markdown",
   "metadata": {},
   "source": [
    "# Task #9"
   ]
  },
  {
   "cell_type": "markdown",
   "metadata": {},
   "source": [
    "Serveral findings: (more to be added)\n",
    "- Campus consume more energy during weekdays than weekends.\n",
    "- Higher energy consumption during working hours.\n",
    "- Many meters report a bi-modal distribution of the measurements, possibly due to seasonal effects.\n",
    "- Some meters (e.g., Porter Hall) show more erratic behavior during weekends."
   ]
  },
  {
   "cell_type": "code",
   "execution_count": null,
   "metadata": {
    "collapsed": false
   },
   "outputs": [],
   "source": []
  }
 ],
 "metadata": {
  "kernelspec": {
   "display_name": "Python 3",
   "language": "python",
   "name": "python3"
  },
  "language_info": {
   "codemirror_mode": {
    "name": "ipython",
    "version": 3
   },
   "file_extension": ".py",
   "mimetype": "text/x-python",
   "name": "python",
   "nbconvert_exporter": "python",
   "pygments_lexer": "ipython3",
   "version": "3.5.0"
  }
 },
 "nbformat": 4,
 "nbformat_minor": 0
}
