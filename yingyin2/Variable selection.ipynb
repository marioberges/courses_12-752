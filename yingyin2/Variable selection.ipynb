{
 "cells": [
  {
   "cell_type": "code",
   "execution_count": 35,
   "metadata": {
    "collapsed": true
   },
   "outputs": [],
   "source": [
    "import numpy as np\n",
    "import matplotlib.pyplot as plt\n",
    "import datetime as dt\n",
    "import numpy.lib.recfunctions as nlr\n",
    "%matplotlib inline"
   ]
  },
  {
   "cell_type": "markdown",
   "metadata": {},
   "source": [
    "Firstly import csv and open the csv file."
   ]
  },
  {
   "cell_type": "code",
   "execution_count": 36,
   "metadata": {
    "collapsed": true
   },
   "outputs": [],
   "source": [
    "import csv\n",
    "file = open('public_layout.csv','r')"
   ]
  },
  {
   "cell_type": "code",
   "execution_count": 37,
   "metadata": {
    "collapsed": true
   },
   "outputs": [],
   "source": [
    "reader = csv.reader(file, delimiter=',')"
   ]
  },
  {
   "cell_type": "code",
   "execution_count": 38,
   "metadata": {
    "collapsed": true
   },
   "outputs": [],
   "source": [
    "fullcsv = list(reader)"
   ]
  },
  {
   "cell_type": "markdown",
   "metadata": {},
   "source": [
    "Create an empty dictionary and for each variable whose absolute value of correlation coefficient with the heating space energy consumption is greater than 0.35 we use the dictionary to store the position of this variable and the correlation coefficient."
   ]
  },
  {
   "cell_type": "code",
   "execution_count": 39,
   "metadata": {
    "collapsed": false
   },
   "outputs": [
    {
     "name": "stdout",
     "output_type": "stream",
     "text": [
      "{}\n",
      "{1: -0.44426586461766993, 2: -0.4190966807063039, 3: -0.46763722509007732, 667: 0.41840045330589914, 38: 0.49731017738955707, 6: 0.57346926429617373, 7: -0.47280585981691542, 8: 0.57809758561548819, 9: -0.44190830320128099, 11: -0.55489482644281862, 461: 0.36566012307803447, 46: 0.51335383806870183, 40: 0.4987542249568328, 35: 0.40833383452217303, 430: -0.37091206303465069, 43: 0.48876975822655272, 705: 0.41145641648498477, 315: 0.37933839920084622}\n"
     ]
    }
   ],
   "source": [
    "dic_1=dict()\n",
    "print(dic_1)\n",
    "for i in range(801):\n",
    "    data = np.genfromtxt('recs2009_public.csv',delimiter=',',skip_header=1,usecols=(i,908))\n",
    "    coef = np.corrcoef(data[:,0],data[:,1])\n",
    "    if abs(coef[0][1])>=0.35:\n",
    "        dic_1[i]=coef[0][1]\n",
    "print(dic_1)"
   ]
  },
  {
   "cell_type": "markdown",
   "metadata": {},
   "source": [
    "Sort the dictionary according to their values of correlation coefficient."
   ]
  },
  {
   "cell_type": "code",
   "execution_count": 40,
   "metadata": {
    "collapsed": false
   },
   "outputs": [
    {
     "data": {
      "text/plain": [
       "[(11, -0.55489482644281862),\n",
       " (7, -0.47280585981691542),\n",
       " (3, -0.46763722509007732),\n",
       " (1, -0.44426586461766993),\n",
       " (9, -0.44190830320128099),\n",
       " (2, -0.4190966807063039),\n",
       " (430, -0.37091206303465069),\n",
       " (461, 0.36566012307803447),\n",
       " (315, 0.37933839920084622),\n",
       " (35, 0.40833383452217303),\n",
       " (705, 0.41145641648498477),\n",
       " (667, 0.41840045330589914),\n",
       " (43, 0.48876975822655272),\n",
       " (38, 0.49731017738955707),\n",
       " (40, 0.4987542249568328),\n",
       " (46, 0.51335383806870183),\n",
       " (6, 0.57346926429617373),\n",
       " (8, 0.57809758561548819)]"
      ]
     },
     "execution_count": 40,
     "metadata": {},
     "output_type": "execute_result"
    }
   ],
   "source": [
    "import operator\n",
    "sortedDic=sorted(dic_1.items(), key=operator.itemgetter(1))\n",
    "sortedDic"
   ]
  },
  {
   "cell_type": "markdown",
   "metadata": {},
   "source": [
    "I will print the indices and correlation coefficient of variables we will use in our model besides materials. "
   ]
  },
  {
   "cell_type": "code",
   "execution_count": 42,
   "metadata": {
    "collapsed": false
   },
   "outputs": [
    {
     "name": "stdout",
     "output_type": "stream",
     "text": [
      "(6, 0.57346926429617373)\n",
      "(315, 0.37933839920084622)\n",
      "(430, -0.37091206303465069)\n"
     ]
    }
   ],
   "source": [
    "variables_chosen=[6, 315, 430, 705]\n",
    "print(sortedDic[-2])\n",
    "print(sortedDic[8])\n",
    "print(sortedDic[6])"
   ]
  },
  {
   "cell_type": "markdown",
   "metadata": {},
   "source": [
    "After selecting the most influential variables,we will construct the design matrix for these variables and variable of 'WALLTYPE' whcih is material for outer wall."
   ]
  }
 ],
 "metadata": {
  "kernelspec": {
   "display_name": "Python 2",
   "language": "python",
   "name": "python2"
  },
  "language_info": {
   "codemirror_mode": {
    "name": "ipython",
    "version": 2
   },
   "file_extension": ".py",
   "mimetype": "text/x-python",
   "name": "python",
   "nbconvert_exporter": "python",
   "pygments_lexer": "ipython2",
   "version": "2.7.10"
  }
 },
 "nbformat": 4,
 "nbformat_minor": 0
}
