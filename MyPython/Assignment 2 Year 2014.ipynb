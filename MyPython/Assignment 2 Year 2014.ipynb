{
 "cells": [
  {
   "cell_type": "code",
   "execution_count": 3,
   "metadata": {
    "collapsed": false
   },
   "outputs": [
    {
     "name": "stdout",
     "output_type": "stream",
     "text": [
      "2014-11-10 17:35:34\n"
     ]
    }
   ],
   "source": [
    "import numpy as np\n",
    "import datetime as dt\n",
    "import matplotlib.pyplot as plt\n",
    "\n",
    "anewdate = '2014/11/10 17:35:34'\n",
    "a = dt.datetime.strptime(anewdate,\"%Y/%m/%d %H:%M:%S\")\n",
    "print (a)\n",
    "\n",
    "mydat = np.genfromtxt('campusDemand.csv',delimiter=\",\", names=True, dtype=('string',type(dt),float,),)\n",
    "\n",
    "def turntodatetime(d):\n",
    "    return dt.datetime.strptime(d,\"%Y/%m/%d %H:%M:%S\")\n",
    "\n",
    "\n"
   ]
  },
  {
   "cell_type": "code",
   "execution_count": null,
   "metadata": {
    "collapsed": true
   },
   "outputs": [],
   "source": [
    "pointNames =np.unique(mydat['Point_name'])\n"
   ]
  },
  {
   "cell_type": "code",
   "execution_count": null,
   "metadata": {
    "collapsed": true
   },
   "outputs": [],
   "source": []
  }
 ],
 "metadata": {
  "kernelspec": {
   "display_name": "Python 3",
   "language": "python",
   "name": "python3"
  },
  "language_info": {
   "codemirror_mode": {
    "name": "ipython",
    "version": 3
   },
   "file_extension": ".py",
   "mimetype": "text/x-python",
   "name": "python",
   "nbconvert_exporter": "python",
   "pygments_lexer": "ipython3",
   "version": "3.5.0"
  }
 },
 "nbformat": 4,
 "nbformat_minor": 0
}
